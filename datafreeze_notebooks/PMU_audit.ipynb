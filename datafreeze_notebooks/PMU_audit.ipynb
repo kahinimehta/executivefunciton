{
 "cells": [
  {
   "cell_type": "code",
   "execution_count": null,
   "metadata": {},
   "outputs": [],
   "source": [
    "#This script audits the PMU data stored on flywheel, either at the acquisition or session level.\n",
    "#Inputs:\n",
    "    #enrollment sheets pulled from axis, stored at afp://saturn/Coordinators/Protocols/TED_PROTOCOLS/EXECUTIVE_829744/2022_data_freeze/\n",
    "    #data from Flywheel acessed using the CLI \n",
    "#Outputs:\n",
    "    #Binary audit of PMU data stored in DICOMS on Flywheel "
   ]
  },
  {
   "cell_type": "code",
   "execution_count": 1,
   "metadata": {},
   "outputs": [],
   "source": [
    "import flywheel\n",
    "import pandas as pd\n",
    "import re \n",
    "fw = flywheel.Client()"
   ]
  },
  {
   "cell_type": "code",
   "execution_count": 2,
   "metadata": {},
   "outputs": [
    {
     "name": "stderr",
     "output_type": "stream",
     "text": [
      "/Users/krmurtha/anaconda3/lib/python3.7/site-packages/flywheel/flywheel.py:6274: UserWarning: Client version 14.6.6 does not match server version 16.4.3. Please update your client version!\n",
      "  warnings.warn('Client version {} does not match server version {}. Please update your client version!'.format(SDK_VERSION, release_version))\n",
      "WARNING:Flywheel:Use \"pip install flywheel-sdk~=16.4.4\" to install a compatible version for this server\n"
     ]
    }
   ],
   "source": [
    "EFProj=fw.projects.find_first('label=EFR01')"
   ]
  },
  {
   "cell_type": "code",
   "execution_count": 3,
   "metadata": {},
   "outputs": [],
   "source": [
    "#loop through subs and get sessions\n",
    "subjects=EFProj.subjects()\n",
    "\n",
    "sessions=[]\n",
    "for s in subjects :\n",
    "    tempsessions=s.sessions()\n",
    "    sessions.extend(tempsessions)"
   ]
  },
  {
   "cell_type": "code",
   "execution_count": 5,
   "metadata": {},
   "outputs": [],
   "source": [
    "#read in T1 enrollment\n",
    "#adjust file path as necessary -- currently assuming parent directory is saturn folder referenced in first block \n",
    "axis_t1=pd.read_csv('/Volumes/Coordinators/Protocols/TED_PROTOCOLS/EXECUTIVE_829744/2022_data_freeze/inputs/axis_enroll_t1.csv',dtype=str)\n",
    "axis_t1=axis_t1.drop(columns=['scan_1_date'])\n",
    "#and T2\n",
    "axis_t2=pd.read_csv('/Volumes/Coordinators/Protocols/TED_PROTOCOLS/EXECUTIVE_829744/2022_data_freeze/inputs/axis_enroll_t2.csv',dtype=str)\n",
    "axis_t2=axis_t2.drop(columns=['scan_2_date'])"
   ]
  },
  {
   "cell_type": "code",
   "execution_count": 6,
   "metadata": {},
   "outputs": [],
   "source": [
    "#reformat for list of scan IDs \n",
    "t1_scan=axis_t1['scan_id_timepoint_1']\n",
    "t1_scan=t1_scan.tolist()\n",
    "t1_scan = [str(t) for t in t1_scan]\n",
    "#and again\n",
    "t2_scan=axis_t2['scan_id_t2']\n",
    "t2_scan=t2_scan.tolist()\n",
    "t2_scan = [str(t) for t in t2_scan]"
   ]
  },
  {
   "cell_type": "code",
   "execution_count": 17,
   "metadata": {},
   "outputs": [],
   "source": [
    "#get a list of all log files attached at the session level of flywheel \n",
    "has_rest1_pmu=[]\n",
    "has_frac_pmu=[]\n",
    "has_rest2_pmu=[]\n",
    "\n",
    "for ses in sessions:\n",
    "    sesid=ses.label\n",
    "    #print(sesid)\n",
    "    acq=ses.acquisitions()\n",
    "    for a in acq:\n",
    "        if 'func_task-rest_run-01_PMU' in a.label or 'ABCD_fMRI_rest_PMU' in a.label:\n",
    "            has_rest1_pmu.append(sesid)\n",
    "        if 'func_task-fracnoback_run-02_PMU' in a.label or 'ABCD_fMRI_frac-no-back-run1_PMU' in a.label:\n",
    "            has_frac_pmu.append(sesid)\n",
    "        if 'func_task-rest_run-03_PMU' in a.label or 'ABCD_fMRI_rest_PMU' in a.label:\n",
    "            has_rest2_pmu.append(sesid)"
   ]
  },
  {
   "cell_type": "code",
   "execution_count": 43,
   "metadata": {},
   "outputs": [
    {
     "name": "stdout",
     "output_type": "stream",
     "text": [
      "177\n",
      "166\n",
      "153\n"
     ]
    }
   ],
   "source": [
    "print(len(has_rest1_pmu))\n",
    "print(len(has_frac_pmu))\n",
    "print(len(has_rest2_pmu))"
   ]
  },
  {
   "cell_type": "code",
   "execution_count": 27,
   "metadata": {},
   "outputs": [],
   "source": [
    "t1_audit = pd.DataFrame(t1_scan, columns =['scanid'])"
   ]
  },
  {
   "cell_type": "code",
   "execution_count": 28,
   "metadata": {},
   "outputs": [],
   "source": [
    "#fill in columns for audit sheet \n",
    "rest1_pmu=[]\n",
    "frac_pmu=[]\n",
    "rest2_pmu=[]\n",
    "\n",
    "for val in t1_audit.values:\n",
    "    if val in has_rest1_pmu:\n",
    "        rest1_pmu.append(1)\n",
    "    if val not in has_rest1_pmu:\n",
    "        rest1_pmu.append(0)\n",
    "    if val in has_frac_pmu:\n",
    "        frac_pmu.append(1)\n",
    "    if val not in has_frac_pmu:\n",
    "        frac_pmu.append(0)\n",
    "    if val in has_rest2_pmu:\n",
    "        rest2_pmu.append(1)\n",
    "    if val not in has_rest2_pmu:\n",
    "        rest2_pmu.append(0)"
   ]
  },
  {
   "cell_type": "code",
   "execution_count": 30,
   "metadata": {},
   "outputs": [],
   "source": [
    "#fill in audit \n",
    "t1_audit['rest1_pmu']=rest1_pmu\n",
    "t1_audit['frac_pmu']=frac_pmu \n",
    "t1_audit['rest2_pmu']=rest2_pmu"
   ]
  },
  {
   "cell_type": "code",
   "execution_count": 33,
   "metadata": {},
   "outputs": [
    {
     "data": {
      "text/html": [
       "<div>\n",
       "<style scoped>\n",
       "    .dataframe tbody tr th:only-of-type {\n",
       "        vertical-align: middle;\n",
       "    }\n",
       "\n",
       "    .dataframe tbody tr th {\n",
       "        vertical-align: top;\n",
       "    }\n",
       "\n",
       "    .dataframe thead th {\n",
       "        text-align: right;\n",
       "    }\n",
       "</style>\n",
       "<table border=\"1\" class=\"dataframe\">\n",
       "  <thead>\n",
       "    <tr style=\"text-align: right;\">\n",
       "      <th></th>\n",
       "      <th>scanid</th>\n",
       "      <th>rest1_pmu</th>\n",
       "      <th>frac_pmu</th>\n",
       "      <th>rest2_pmu</th>\n",
       "    </tr>\n",
       "  </thead>\n",
       "  <tbody>\n",
       "    <tr>\n",
       "      <th>0</th>\n",
       "      <td>11012</td>\n",
       "      <td>1</td>\n",
       "      <td>1</td>\n",
       "      <td>1</td>\n",
       "    </tr>\n",
       "    <tr>\n",
       "      <th>1</th>\n",
       "      <td>10960</td>\n",
       "      <td>0</td>\n",
       "      <td>0</td>\n",
       "      <td>0</td>\n",
       "    </tr>\n",
       "    <tr>\n",
       "      <th>2</th>\n",
       "      <td>10959</td>\n",
       "      <td>1</td>\n",
       "      <td>0</td>\n",
       "      <td>1</td>\n",
       "    </tr>\n",
       "    <tr>\n",
       "      <th>3</th>\n",
       "      <td>11138</td>\n",
       "      <td>1</td>\n",
       "      <td>1</td>\n",
       "      <td>1</td>\n",
       "    </tr>\n",
       "    <tr>\n",
       "      <th>4</th>\n",
       "      <td>11000</td>\n",
       "      <td>0</td>\n",
       "      <td>0</td>\n",
       "      <td>0</td>\n",
       "    </tr>\n",
       "  </tbody>\n",
       "</table>\n",
       "</div>"
      ],
      "text/plain": [
       "  scanid  rest1_pmu  frac_pmu  rest2_pmu\n",
       "0  11012          1         1          1\n",
       "1  10960          0         0          0\n",
       "2  10959          1         0          1\n",
       "3  11138          1         1          1\n",
       "4  11000          0         0          0"
      ]
     },
     "execution_count": 33,
     "metadata": {},
     "output_type": "execute_result"
    }
   ],
   "source": [
    "t1_audit.head(n=5)"
   ]
  },
  {
   "cell_type": "code",
   "execution_count": 41,
   "metadata": {},
   "outputs": [],
   "source": [
    "#write out T1 file \n",
    "t1_audit.to_csv('/Volumes/Coordinators/Protocols/TED_PROTOCOLS/EXECUTIVE_829744/2022_data_freeze/audits/EF_T1_PMU_audit.csv', sep = ',', index=False)"
   ]
  },
  {
   "cell_type": "code",
   "execution_count": 35,
   "metadata": {},
   "outputs": [],
   "source": [
    "#and again for T2\n",
    "t2_audit = pd.DataFrame(t2_scan, columns =['scanid'])"
   ]
  },
  {
   "cell_type": "code",
   "execution_count": 36,
   "metadata": {},
   "outputs": [],
   "source": [
    "rest1_pmu=[]\n",
    "frac_pmu=[]\n",
    "rest2_pmu=[]\n",
    "\n",
    "for val in t2_audit.values:\n",
    "    if val in has_rest1_pmu:\n",
    "        rest1_pmu.append(1)\n",
    "    if val not in has_rest1_pmu:\n",
    "        rest1_pmu.append(0)\n",
    "    if val in has_frac_pmu:\n",
    "        frac_pmu.append(1)\n",
    "    if val not in has_frac_pmu:\n",
    "        frac_pmu.append(0)\n",
    "    if val in has_rest2_pmu:\n",
    "        rest2_pmu.append(1)\n",
    "    if val not in has_rest2_pmu:\n",
    "        rest2_pmu.append(0)"
   ]
  },
  {
   "cell_type": "code",
   "execution_count": 39,
   "metadata": {},
   "outputs": [],
   "source": [
    "t2_audit['rest1_pmu']=rest1_pmu\n",
    "t2_audit['frac_pmu']=frac_pmu \n",
    "t2_audit['rest2_pmu']=rest2_pmu"
   ]
  },
  {
   "cell_type": "code",
   "execution_count": 40,
   "metadata": {},
   "outputs": [
    {
     "data": {
      "text/html": [
       "<div>\n",
       "<style scoped>\n",
       "    .dataframe tbody tr th:only-of-type {\n",
       "        vertical-align: middle;\n",
       "    }\n",
       "\n",
       "    .dataframe tbody tr th {\n",
       "        vertical-align: top;\n",
       "    }\n",
       "\n",
       "    .dataframe thead th {\n",
       "        text-align: right;\n",
       "    }\n",
       "</style>\n",
       "<table border=\"1\" class=\"dataframe\">\n",
       "  <thead>\n",
       "    <tr style=\"text-align: right;\">\n",
       "      <th></th>\n",
       "      <th>scanid</th>\n",
       "      <th>rest1_pmu</th>\n",
       "      <th>frac_pmu</th>\n",
       "      <th>rest2_pmu</th>\n",
       "    </tr>\n",
       "  </thead>\n",
       "  <tbody>\n",
       "    <tr>\n",
       "      <th>0</th>\n",
       "      <td>11657</td>\n",
       "      <td>1</td>\n",
       "      <td>1</td>\n",
       "      <td>1</td>\n",
       "    </tr>\n",
       "    <tr>\n",
       "      <th>1</th>\n",
       "      <td>11831</td>\n",
       "      <td>1</td>\n",
       "      <td>1</td>\n",
       "      <td>1</td>\n",
       "    </tr>\n",
       "    <tr>\n",
       "      <th>2</th>\n",
       "      <td>11594</td>\n",
       "      <td>1</td>\n",
       "      <td>1</td>\n",
       "      <td>1</td>\n",
       "    </tr>\n",
       "    <tr>\n",
       "      <th>3</th>\n",
       "      <td>11659</td>\n",
       "      <td>1</td>\n",
       "      <td>1</td>\n",
       "      <td>1</td>\n",
       "    </tr>\n",
       "    <tr>\n",
       "      <th>4</th>\n",
       "      <td>11612</td>\n",
       "      <td>1</td>\n",
       "      <td>1</td>\n",
       "      <td>1</td>\n",
       "    </tr>\n",
       "  </tbody>\n",
       "</table>\n",
       "</div>"
      ],
      "text/plain": [
       "  scanid  rest1_pmu  frac_pmu  rest2_pmu\n",
       "0  11657          1         1          1\n",
       "1  11831          1         1          1\n",
       "2  11594          1         1          1\n",
       "3  11659          1         1          1\n",
       "4  11612          1         1          1"
      ]
     },
     "execution_count": 40,
     "metadata": {},
     "output_type": "execute_result"
    }
   ],
   "source": [
    "t2_audit.head(n=5)"
   ]
  },
  {
   "cell_type": "code",
   "execution_count": 42,
   "metadata": {},
   "outputs": [],
   "source": [
    "t2_audit.to_csv('/Volumes/Coordinators/Protocols/TED_PROTOCOLS/EXECUTIVE_829744/2022_data_freeze/audits/EF_T2_PMU_audit.csv', sep = ',', index=False)"
   ]
  }
 ],
 "metadata": {
  "kernelspec": {
   "display_name": "Python 3",
   "language": "python",
   "name": "python3"
  },
  "language_info": {
   "codemirror_mode": {
    "name": "ipython",
    "version": 3
   },
   "file_extension": ".py",
   "mimetype": "text/x-python",
   "name": "python",
   "nbconvert_exporter": "python",
   "pygments_lexer": "ipython3",
   "version": "3.7.3"
  }
 },
 "nbformat": 4,
 "nbformat_minor": 2
}
