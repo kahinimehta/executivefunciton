{
 "cells": [
  {
   "cell_type": "code",
   "execution_count": null,
   "metadata": {},
   "outputs": [],
   "source": [
    "#This script merges cleaned collateral data from an old data freeze, with new data pulled from Axis.\n",
    "#Inputs:\n",
    "    #enrollment sheets pulled from AXIS, stored at afp://saturn/Coordinators/Protocols/TED_PROTOCOLS/EXECUTIVE_829744/2022_data_freeze/inputs\n",
    "    #data cleaned and organized from 2020, stored at afp://saturn/Coordinators/Protocols/TED_PROTOCOLS/EXECUTIVE_829744/flywheel_data_uploads/data_ready_for_upload/\n",
    "    #log of collateral IDs pulled from AXIS (https://axis.med.upenn.edu/redcap_v10.3.7/DataExport/index.php?pid=378&report_id=1362) and stored at afp://saturn/Coordinators/Protocols/TED_PROTOCOLS/EXECUTIVE_829744/2022_data_freeze/inputs\n",
    "    #new data pulled from AXIS (https://axis.med.upenn.edu/redcap_v10.3.7/DataExport/index.php?pid=191&report_id=1318) and stored at afp://saturn/Coordinators/Protocols/TED_PROTOCOLS/EXECUTIVE_829744/2022_data_freeze/inputs\n",
    "#Outputs:\n",
    "    #a csv of all collateral battery scales collected for participants enrolled prior to April 1st, 2022 "
   ]
  },
  {
   "cell_type": "code",
   "execution_count": 1,
   "metadata": {},
   "outputs": [],
   "source": [
    "import pandas as pd"
   ]
  },
  {
   "cell_type": "code",
   "execution_count": 6,
   "metadata": {},
   "outputs": [],
   "source": [
    "#read in T1 enrollment\n",
    "axis_t1=pd.read_csv('/Volumes/Coordinators/Protocols/TED_PROTOCOLS/EXECUTIVE_829744/2022_data_freeze/inputs/axis_enroll_t1.csv',dtype=str)\n",
    "axis_t1=axis_t1.drop(columns=['scan_1_date'])\n",
    "#axis_t1"
   ]
  },
  {
   "cell_type": "code",
   "execution_count": 7,
   "metadata": {},
   "outputs": [],
   "source": [
    "#reformat \n",
    "t1_enroll=axis_t1['bblid']\n",
    "t1_enroll=t1_enroll.tolist()\n",
    "t1_enroll = [str(t) for t in t1_enroll]"
   ]
  },
  {
   "cell_type": "code",
   "execution_count": 8,
   "metadata": {},
   "outputs": [],
   "source": [
    "#read in RedCAP IDS from EF tracker\n",
    "redcap_ids = pd.read_csv('/Volumes/Coordinators/Protocols/TED_PROTOCOLS/EXECUTIVE_829744/2022_data_freeze/inputs/axis_collateral_ids.csv', dtype=str)\n",
    "scale_ids = redcap_ids['collateral_redcap_id']\n",
    "scale_ids = scale_ids.tolist()\n",
    "scale_ids = [str(i) for i in scale_ids]"
   ]
  },
  {
   "cell_type": "code",
   "execution_count": 9,
   "metadata": {},
   "outputs": [
    {
     "name": "stdout",
     "output_type": "stream",
     "text": [
      "['347', '457', '466', '613', '417', '379', '843', '473', '696', '422', '771', '605', '609', '501', '684', '601', '505', '431', '552', '486', '519', '621', '617', '588', '663', '631', '672', '743', '781', '763', '719', '869', '807', '1006', '859', '854', '887', '892', '992', '1027', '969', '1133', '1129', '996', '1094', '1101', '1047', '1039', '1067', '1112', '1071', '1075', '1083', '1079', '1179', '1268', '1273', '1172', '1237', '1295', '1187', '1248', '1339', '1264', '1307', '1335', '1358', '1372', '1463', '1424', '1483', '2032', '1449', '1387', '2351', '2021', '1528', '2780', '1541', '1833', '2028', '3109', '2283', '2445', '2706', '2497', '3098', '3224', '2813', '3046', '3202', '3206', '2920', '3042', '2947', '2924', '3091', '3303', '3307', '3438', '3381', '3339', '1391812403', '1391812404', '3927', '3991', '3983', '4386', '4216', '4269', '4326', '4330', '4416', '4425', '4273', '4621', '4625', '4538', '1780']\n"
     ]
    }
   ],
   "source": [
    "#get rid of nan's\n",
    "scale_ids1=[]\n",
    "for s in scale_ids:\n",
    "    if 'nan' not in s:\n",
    "        #t=s.split('.')[0]\n",
    "        #print(t)\n",
    "        scale_ids1.append(s)\n",
    "print(scale_ids1)"
   ]
  },
  {
   "cell_type": "code",
   "execution_count": 29,
   "metadata": {},
   "outputs": [],
   "source": [
    "#read in raw data\n",
    "sr=pd.read_csv('/Volumes/Coordinators/Protocols/TED_PROTOCOLS/EXECUTIVE_829744/2022_data_freeze/inputs/axis_EF_collateral_scales.csv',dtype=str)"
   ]
  },
  {
   "cell_type": "code",
   "execution_count": 30,
   "metadata": {},
   "outputs": [],
   "source": [
    "#subset based on scale ids\n",
    "scales=sr[sr['scales_id'].isin(scale_ids1)]"
   ]
  },
  {
   "cell_type": "code",
   "execution_count": 31,
   "metadata": {},
   "outputs": [],
   "source": [
    "#merge on SCALE ID, to maintain collateral AND proband bblid \n",
    "scales=pd.merge(redcap_ids,scales, left_on=\"collateral_redcap_id\", right_on=\"scales_id\")"
   ]
  },
  {
   "cell_type": "code",
   "execution_count": 32,
   "metadata": {
    "scrolled": true
   },
   "outputs": [],
   "source": [
    "#drop, rename and organize columns\n",
    "scales=scales.rename(columns={\"bblid_x\": \"bblid\", \"collateralid\":\"collateral_bblid\"})\n",
    "scales=scales.drop(columns=['collateral_redcap_id','collateral_redcap_id_t2','bblid_y'])"
   ]
  },
  {
   "cell_type": "code",
   "execution_count": 35,
   "metadata": {
    "scrolled": true
   },
   "outputs": [],
   "source": [
    "#read in old SR data\n",
    "cleaned_sr=pd.read_csv('/Volumes/Coordinators/Protocols/TED_PROTOCOLS/EXECUTIVE_829744/flywheel_data_uploads/data_ready_for_upload/collateralSelfReport_EF_Audit_UPDATED.csv',dtype=str,encoding='latin-1')"
   ]
  },
  {
   "cell_type": "code",
   "execution_count": 36,
   "metadata": {
    "scrolled": true
   },
   "outputs": [],
   "source": [
    "#for some reason these don't have scales IDs, so lets separate them from redcap IDs \n",
    "ids= cleaned_sr['redcapid']\n",
    "new_ids=[]\n",
    "for i in ids:\n",
    "    x=i[5:]\n",
    "    new_ids.append(x)"
   ]
  },
  {
   "cell_type": "code",
   "execution_count": 37,
   "metadata": {},
   "outputs": [],
   "source": [
    "#add new column to dataframe \n",
    "cleaned_sr['scales_id']=new_ids"
   ]
  },
  {
   "cell_type": "code",
   "execution_count": 38,
   "metadata": {
    "scrolled": true
   },
   "outputs": [
    {
     "name": "stdout",
     "output_type": "stream",
     "text": [
      "['2032', '2351', '2021', '2780', '1833', '2028', '3109', '2283', '2445', '2706', '2497', '3098', '3224', '2813', '3046', '3202', '3206', '2920', '3042', '2947', '2924', '3091', '3303', '3307', '3438', '3381', '3339', '1391812403', '1391812404', '3927', '3991', '3983', '4386', '4216', '4269', '4326', '4330', '4416', '4425', '4273', '4621', '4625', '4538', '1780']\n"
     ]
    }
   ],
   "source": [
    "#find who is missing from the cleaned data \n",
    "missing=[]\n",
    "for i in scale_ids1:\n",
    "    if i not in new_ids:\n",
    "        missing.append(i)\n",
    "\n",
    "print(missing)"
   ]
  },
  {
   "cell_type": "code",
   "execution_count": 39,
   "metadata": {},
   "outputs": [],
   "source": [
    "#filter out any data that was already organized in the last audit. \n",
    "new = scales[scales['scales_id'].isin(missing)]"
   ]
  },
  {
   "cell_type": "code",
   "execution_count": 41,
   "metadata": {},
   "outputs": [],
   "source": [
    "t1_all_scales = pd.concat([cleaned_sr, new], axis=0, sort=False)"
   ]
  },
  {
   "cell_type": "code",
   "execution_count": 44,
   "metadata": {},
   "outputs": [],
   "source": [
    "#add a \"timepoint\" variable (this is t1) and merge with scan IDs so data is easily used w BIDS \n",
    "t1_all_scales=pd.merge(t1_all_scales,axis_t1, left_on=\"bblid\", right_on=\"bblid\")\n",
    "t1_all_scales=t1_all_scales.rename(columns={\"scan_id_timepoint_1\": \"scan_id\"})\n",
    "t1_all_scales['timepoint']= '1'"
   ]
  },
  {
   "cell_type": "code",
   "execution_count": 23,
   "metadata": {},
   "outputs": [],
   "source": [
    "#and now to add T2 "
   ]
  },
  {
   "cell_type": "code",
   "execution_count": 45,
   "metadata": {},
   "outputs": [],
   "source": [
    "#read in T1 enrollment\n",
    "axis_t2=pd.read_csv('/Volumes/Coordinators/Protocols/TED_PROTOCOLS/EXECUTIVE_829744/2022_data_freeze/inputs/axis_enroll_t2.csv',dtype=str)\n",
    "axis_t2=axis_t2.drop(columns=['scan_2_date'])\n",
    "#axis_t2"
   ]
  },
  {
   "cell_type": "code",
   "execution_count": 46,
   "metadata": {},
   "outputs": [],
   "source": [
    "#reformat \n",
    "t2_enroll=axis_t2['bblid']\n",
    "t2_enroll=t2_enroll.tolist()\n",
    "t2_enroll = [str(t) for t in t2_enroll]"
   ]
  },
  {
   "cell_type": "code",
   "execution_count": 47,
   "metadata": {},
   "outputs": [],
   "source": [
    "#get T2 scale ids\n",
    "scale_ids2 = redcap_ids['collateral_redcap_id_t2']\n",
    "scale_ids2 = scale_ids2.tolist()\n",
    "scale_ids2 = [str(i) for i in scale_ids2]"
   ]
  },
  {
   "cell_type": "code",
   "execution_count": 48,
   "metadata": {},
   "outputs": [
    {
     "name": "stdout",
     "output_type": "stream",
     "text": [
      "[' -', '2471', '3234', '2122', '2475', '2222', '2211', '3198', '2187', '2191', '2324', '2600', '2479', '2320', '2604', '2875', '3020', '4601', '2666', '2651', '2773', '4563', '3459', '3463', '3256', '3857', '4153', '4058', '1391812423', '4302', '3414', '1391812420', '4294', '3758', '4206', '4630', '4482', '4523']\n"
     ]
    }
   ],
   "source": [
    "#get rid of nan's\n",
    "scale_ids2t=[]\n",
    "for s in scale_ids2:\n",
    "    if 'nan' not in s:\n",
    "        #t=s.split('.')[0]\n",
    "        #print(t)\n",
    "        scale_ids2t.append(s)\n",
    "print(scale_ids2t)"
   ]
  },
  {
   "cell_type": "code",
   "execution_count": 49,
   "metadata": {
    "scrolled": true
   },
   "outputs": [],
   "source": [
    "scales2=sr[sr['scales_id'].isin(scale_ids2t)]"
   ]
  },
  {
   "cell_type": "code",
   "execution_count": 50,
   "metadata": {},
   "outputs": [],
   "source": [
    "#merge on SCALE ID, to maintain collateral AND proband bblid \n",
    "scales2=pd.merge(redcap_ids,scales2, left_on=\"collateral_redcap_id_t2\", right_on=\"scales_id\")"
   ]
  },
  {
   "cell_type": "code",
   "execution_count": 51,
   "metadata": {},
   "outputs": [],
   "source": [
    "#drop, rename and organize columns\n",
    "scales2=scales2.rename(columns={\"bblid_x\": \"bblid\", \"collateralid\":\"collateral_bblid\"})\n",
    "scales2=scales2.drop(columns=['collateral_redcap_id','collateral_redcap_id_t2','bblid_y'])"
   ]
  },
  {
   "cell_type": "code",
   "execution_count": 52,
   "metadata": {},
   "outputs": [],
   "source": [
    "t2_all_scales=pd.merge(scales2,axis_t2, left_on=\"bblid\", right_on=\"bblid\")\n",
    "t2_all_scales=t2_all_scales.rename(columns={\"scan_id_t2\": \"scan_id\"})\n",
    "t2_all_scales['timepoint']= '2'"
   ]
  },
  {
   "cell_type": "code",
   "execution_count": 55,
   "metadata": {},
   "outputs": [],
   "source": [
    "#altogether now! \n",
    "all_scales = pd.concat([t1_all_scales, t2_all_scales], axis=0, sort=False)"
   ]
  },
  {
   "cell_type": "code",
   "execution_count": 57,
   "metadata": {},
   "outputs": [],
   "source": [
    "all_scales.to_csv('/Volumes/Coordinators/Protocols/TED_PROTOCOLS/EXECUTIVE_829744/2022_data_freeze/outputs/EF_collateral_scales.csv', sep = ',', index=False)"
   ]
  }
 ],
 "metadata": {
  "kernelspec": {
   "display_name": "Python 3",
   "language": "python",
   "name": "python3"
  },
  "language_info": {
   "codemirror_mode": {
    "name": "ipython",
    "version": 3
   },
   "file_extension": ".py",
   "mimetype": "text/x-python",
   "name": "python",
   "nbconvert_exporter": "python",
   "pygments_lexer": "ipython3",
   "version": "3.7.3"
  }
 },
 "nbformat": 4,
 "nbformat_minor": 2
}
