{
 "cells": [
  {
   "cell_type": "code",
   "execution_count": null,
   "metadata": {},
   "outputs": [],
   "source": [
    "#This script creates a binary spreadsheet of all participants enrolled in EF and whether or not their \n",
    "#collateral scale data is complete\n",
    "#Inputs:\n",
    "    #enrollment sheets pulled from AXIS, stored at afp://saturn/Coordinators/Protocols/TED_PROTOCOLS/EXECUTIVE_829744/2022_data_freeze/inputs\n",
    "    #merged sheet of all collateral scales, stored at afp://saturn/Coordinators/Protocols/TED_PROTOCOLS/EXECUTIVE_829744/2022_data_freeze/outputs\n",
    "#Outputs:\n",
    "    #a binary spreadsheet of collateral SR data collected for T1 participants enrolled prior to April 1st, 2022 \n",
    "    #a binary spreadsheet of collateral SR data collected for T2 participants enrolled prior to April 1st, 2022 "
   ]
  },
  {
   "cell_type": "code",
   "execution_count": 12,
   "metadata": {},
   "outputs": [],
   "source": [
    "import pandas as pd"
   ]
  },
  {
   "cell_type": "code",
   "execution_count": 17,
   "metadata": {},
   "outputs": [],
   "source": [
    "#read in T1 enrollment\n",
    "axis_t1=pd.read_csv('/Volumes/Coordinators/Protocols/TED_PROTOCOLS/EXECUTIVE_829744/2022_data_freeze/inputs/axis_enroll_t1.csv', dtype=str)\n",
    "axis_t1=axis_t1.drop(columns=['scan_1_date'])\n",
    "#axis_t1"
   ]
  },
  {
   "cell_type": "code",
   "execution_count": 14,
   "metadata": {},
   "outputs": [],
   "source": [
    "#reformat \n",
    "t1_enroll=axis_t1['bblid']\n",
    "t1_enroll=t1_enroll.tolist()\n",
    "t1_enroll = [str(t) for t in t1_enroll]"
   ]
  },
  {
   "cell_type": "code",
   "execution_count": 18,
   "metadata": {},
   "outputs": [],
   "source": [
    "#read in all collaterall scales \n",
    "scales=pd.read_csv('/Volumes/Coordinators/Protocols/TED_PROTOCOLS/EXECUTIVE_829744/2022_data_freeze/outputs/EF_collateral_scales.csv', dtype=str)"
   ]
  },
  {
   "cell_type": "code",
   "execution_count": 20,
   "metadata": {},
   "outputs": [],
   "source": [
    "#sort for t1 scales\n",
    "scales_t1 = scales[scales.timepoint.eq('1')]\n",
    "scales_t1 = scales_t1.astype(str)"
   ]
  },
  {
   "cell_type": "code",
   "execution_count": 21,
   "metadata": {},
   "outputs": [],
   "source": [
    "#loop through SR for each scale\n",
    "has_ari=[]\n",
    "has_eswan_adhd=[]\n",
    "has_eswan_dmdd=[]\n",
    "\n",
    "for index, row in scales_t1.iterrows():\n",
    "    for t in t1_enroll:\n",
    "        if (t in row['bblid']) and ('2' in (row['ari_collateral_complete'])):\n",
    "            has_ari.append(t)\n",
    "        if (t in row['bblid']) and ('2' in (row['eswan_adhd_collateral_complete'])):\n",
    "            has_eswan_adhd.append(t)\n",
    "        if (t in row['bblid']) and ('2' in (row['eswan_dmdd_collateral_complete'])):\n",
    "            has_eswan_dmdd.append(t)\n"
   ]
  },
  {
   "cell_type": "code",
   "execution_count": 22,
   "metadata": {},
   "outputs": [
    {
     "name": "stdout",
     "output_type": "stream",
     "text": [
      "173\n"
     ]
    }
   ],
   "source": [
    "audit = pd.DataFrame (t1_enroll, columns = ['BBLID'])\n",
    "print(len(audit))"
   ]
  },
  {
   "cell_type": "code",
   "execution_count": 23,
   "metadata": {},
   "outputs": [],
   "source": [
    "ari=[]\n",
    "eswan_adhd=[]\n",
    "eswan_dmdd=[]\n",
    "\n",
    "for val in audit.values:\n",
    "    if val in has_ari:\n",
    "        ari.append(1)\n",
    "    if val not in has_ari:\n",
    "        ari.append(0)\n",
    "    if val in has_eswan_adhd:\n",
    "        eswan_adhd.append(1)\n",
    "    if val not in has_eswan_adhd:\n",
    "        eswan_adhd.append(0)\n",
    "    if val in has_eswan_dmdd:\n",
    "        eswan_dmdd.append(1)\n",
    "    if val not in has_eswan_dmdd:\n",
    "        eswan_dmdd.append(0)"
   ]
  },
  {
   "cell_type": "code",
   "execution_count": 24,
   "metadata": {},
   "outputs": [],
   "source": [
    "audit['ari']=ari\n",
    "audit['eswan_adhd']=eswan_adhd\n",
    "audit['eswan_dmdd']=eswan_dmdd"
   ]
  },
  {
   "cell_type": "code",
   "execution_count": 36,
   "metadata": {},
   "outputs": [
    {
     "data": {
      "text/html": [
       "<div>\n",
       "<style scoped>\n",
       "    .dataframe tbody tr th:only-of-type {\n",
       "        vertical-align: middle;\n",
       "    }\n",
       "\n",
       "    .dataframe tbody tr th {\n",
       "        vertical-align: top;\n",
       "    }\n",
       "\n",
       "    .dataframe thead th {\n",
       "        text-align: right;\n",
       "    }\n",
       "</style>\n",
       "<table border=\"1\" class=\"dataframe\">\n",
       "  <thead>\n",
       "    <tr style=\"text-align: right;\">\n",
       "      <th></th>\n",
       "      <th>BBLID</th>\n",
       "      <th>ari</th>\n",
       "      <th>eswan_adhd</th>\n",
       "      <th>eswan_dmdd</th>\n",
       "    </tr>\n",
       "  </thead>\n",
       "  <tbody>\n",
       "    <tr>\n",
       "      <th>0</th>\n",
       "      <td>19861</td>\n",
       "      <td>1</td>\n",
       "      <td>1</td>\n",
       "      <td>1</td>\n",
       "    </tr>\n",
       "    <tr>\n",
       "      <th>1</th>\n",
       "      <td>20124</td>\n",
       "      <td>0</td>\n",
       "      <td>0</td>\n",
       "      <td>0</td>\n",
       "    </tr>\n",
       "    <tr>\n",
       "      <th>2</th>\n",
       "      <td>20125</td>\n",
       "      <td>0</td>\n",
       "      <td>0</td>\n",
       "      <td>0</td>\n",
       "    </tr>\n",
       "    <tr>\n",
       "      <th>3</th>\n",
       "      <td>20139</td>\n",
       "      <td>1</td>\n",
       "      <td>1</td>\n",
       "      <td>1</td>\n",
       "    </tr>\n",
       "    <tr>\n",
       "      <th>4</th>\n",
       "      <td>20141</td>\n",
       "      <td>0</td>\n",
       "      <td>0</td>\n",
       "      <td>0</td>\n",
       "    </tr>\n",
       "  </tbody>\n",
       "</table>\n",
       "</div>"
      ],
      "text/plain": [
       "   BBLID  ari  eswan_adhd  eswan_dmdd\n",
       "0  19861    1           1           1\n",
       "1  20124    0           0           0\n",
       "2  20125    0           0           0\n",
       "3  20139    1           1           1\n",
       "4  20141    0           0           0"
      ]
     },
     "execution_count": 36,
     "metadata": {},
     "output_type": "execute_result"
    }
   ],
   "source": [
    "audit.head(n=5)"
   ]
  },
  {
   "cell_type": "code",
   "execution_count": 26,
   "metadata": {},
   "outputs": [],
   "source": [
    "audit.to_csv('/Volumes/Coordinators/Protocols/TED_PROTOCOLS/EXECUTIVE_829744/2022_data_freeze/audits/EF_T1_collateral_SR_audit.csv', sep = ',', index=False)"
   ]
  },
  {
   "cell_type": "code",
   "execution_count": 27,
   "metadata": {},
   "outputs": [],
   "source": [
    "#and for T2"
   ]
  },
  {
   "cell_type": "code",
   "execution_count": 28,
   "metadata": {},
   "outputs": [],
   "source": [
    "#read in t2 enrollment\n",
    "axis_t2=pd.read_csv('/Volumes/Coordinators/Protocols/TED_PROTOCOLS/EXECUTIVE_829744/2022_data_freeze/inputs/axis_enroll_t2.csv')\n",
    "axis_t2=axis_t2.drop(columns=['scan_2_date'])\n",
    "#axis_t2"
   ]
  },
  {
   "cell_type": "code",
   "execution_count": 29,
   "metadata": {},
   "outputs": [],
   "source": [
    "t2_enroll=axis_t2['bblid']\n",
    "t2_enroll=t2_enroll.tolist()\n",
    "t2_enroll = [str(t) for t in t2_enroll]"
   ]
  },
  {
   "cell_type": "code",
   "execution_count": 30,
   "metadata": {},
   "outputs": [],
   "source": [
    "#filter for timepoint 2\n",
    "scales_t2 = scales[scales.timepoint.eq('2')]\n",
    "scales_t2 = scales_t2.astype(str)"
   ]
  },
  {
   "cell_type": "code",
   "execution_count": 31,
   "metadata": {},
   "outputs": [],
   "source": [
    "#loop through SR for easy scales \n",
    "has_ari=[]\n",
    "has_eswan_adhd=[]\n",
    "has_eswan_dmdd=[]\n",
    "\n",
    "for index, row in scales_t2.iterrows():\n",
    "    for t in t2_enroll:\n",
    "        if (t in row['bblid']) and ('2' in (row['ari_collateral_complete'])):\n",
    "            has_ari.append(t)\n",
    "        if (t in row['bblid']) and ('2' in (row['eswan_adhd_collateral_complete'])):\n",
    "            has_eswan_adhd.append(t)\n",
    "        if (t in row['bblid']) and ('2' in (row['eswan_dmdd_collateral_complete'])):\n",
    "            has_eswan_dmdd.append(t)"
   ]
  },
  {
   "cell_type": "code",
   "execution_count": 32,
   "metadata": {},
   "outputs": [
    {
     "name": "stdout",
     "output_type": "stream",
     "text": [
      "37\n"
     ]
    }
   ],
   "source": [
    "audit2 = pd.DataFrame (t2_enroll, columns = ['BBLID'])\n",
    "print(len(audit2))"
   ]
  },
  {
   "cell_type": "code",
   "execution_count": 33,
   "metadata": {},
   "outputs": [],
   "source": [
    "ari=[]\n",
    "eswan_adhd=[]\n",
    "eswan_dmdd=[]\n",
    "\n",
    "for val in audit2.values:\n",
    "    if val in has_ari:\n",
    "        ari.append(1)\n",
    "    if val not in has_ari:\n",
    "        ari.append(0)\n",
    "    if val in has_eswan_adhd:\n",
    "        eswan_adhd.append(1)\n",
    "    if val not in has_eswan_adhd:\n",
    "        eswan_adhd.append(0)\n",
    "    if val in has_eswan_dmdd:\n",
    "        eswan_dmdd.append(1)\n",
    "    if val not in has_eswan_dmdd:\n",
    "        eswan_dmdd.append(0)"
   ]
  },
  {
   "cell_type": "code",
   "execution_count": 34,
   "metadata": {},
   "outputs": [],
   "source": [
    "audit2['ari']=ari\n",
    "audit2['eswan_adhd']=eswan_adhd\n",
    "audit2['eswan_dmdd']=eswan_dmdd"
   ]
  },
  {
   "cell_type": "code",
   "execution_count": 35,
   "metadata": {},
   "outputs": [
    {
     "data": {
      "text/html": [
       "<div>\n",
       "<style scoped>\n",
       "    .dataframe tbody tr th:only-of-type {\n",
       "        vertical-align: middle;\n",
       "    }\n",
       "\n",
       "    .dataframe tbody tr th {\n",
       "        vertical-align: top;\n",
       "    }\n",
       "\n",
       "    .dataframe thead th {\n",
       "        text-align: right;\n",
       "    }\n",
       "</style>\n",
       "<table border=\"1\" class=\"dataframe\">\n",
       "  <thead>\n",
       "    <tr style=\"text-align: right;\">\n",
       "      <th></th>\n",
       "      <th>BBLID</th>\n",
       "      <th>ari</th>\n",
       "      <th>eswan_adhd</th>\n",
       "      <th>eswan_dmdd</th>\n",
       "    </tr>\n",
       "  </thead>\n",
       "  <tbody>\n",
       "    <tr>\n",
       "      <th>0</th>\n",
       "      <td>20139</td>\n",
       "      <td>1</td>\n",
       "      <td>1</td>\n",
       "      <td>1</td>\n",
       "    </tr>\n",
       "    <tr>\n",
       "      <th>1</th>\n",
       "      <td>20149</td>\n",
       "      <td>1</td>\n",
       "      <td>1</td>\n",
       "      <td>1</td>\n",
       "    </tr>\n",
       "    <tr>\n",
       "      <th>2</th>\n",
       "      <td>20188</td>\n",
       "      <td>1</td>\n",
       "      <td>1</td>\n",
       "      <td>1</td>\n",
       "    </tr>\n",
       "    <tr>\n",
       "      <th>3</th>\n",
       "      <td>20214</td>\n",
       "      <td>1</td>\n",
       "      <td>1</td>\n",
       "      <td>1</td>\n",
       "    </tr>\n",
       "    <tr>\n",
       "      <th>4</th>\n",
       "      <td>20238</td>\n",
       "      <td>0</td>\n",
       "      <td>0</td>\n",
       "      <td>0</td>\n",
       "    </tr>\n",
       "  </tbody>\n",
       "</table>\n",
       "</div>"
      ],
      "text/plain": [
       "   BBLID  ari  eswan_adhd  eswan_dmdd\n",
       "0  20139    1           1           1\n",
       "1  20149    1           1           1\n",
       "2  20188    1           1           1\n",
       "3  20214    1           1           1\n",
       "4  20238    0           0           0"
      ]
     },
     "execution_count": 35,
     "metadata": {},
     "output_type": "execute_result"
    }
   ],
   "source": [
    "audit2.head(n=5)"
   ]
  },
  {
   "cell_type": "code",
   "execution_count": 37,
   "metadata": {},
   "outputs": [],
   "source": [
    "audit2.to_csv('/Volumes/Coordinators/Protocols/TED_PROTOCOLS/EXECUTIVE_829744/2022_data_freeze/audits/EF_T2_collateral_SR_audit.csv', sep = ',', index=False)"
   ]
  }
 ],
 "metadata": {
  "kernelspec": {
   "display_name": "Python 3",
   "language": "python",
   "name": "python3"
  },
  "language_info": {
   "codemirror_mode": {
    "name": "ipython",
    "version": 3
   },
   "file_extension": ".py",
   "mimetype": "text/x-python",
   "name": "python",
   "nbconvert_exporter": "python",
   "pygments_lexer": "ipython3",
   "version": "3.7.3"
  }
 },
 "nbformat": 4,
 "nbformat_minor": 2
}
