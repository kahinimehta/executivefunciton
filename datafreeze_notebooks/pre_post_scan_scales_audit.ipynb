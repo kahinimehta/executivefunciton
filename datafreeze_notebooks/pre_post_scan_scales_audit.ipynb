{
 "cells": [
  {
   "cell_type": "code",
   "execution_count": null,
   "metadata": {},
   "outputs": [],
   "source": [
    "#This script creates a binary spreadsheet of all participants enrolled in EF and whether or not their \n",
    "#pre/post scan SR data is complete \n",
    "#Inputs:\n",
    "    #enrollment sheets pulled from AXIS, stored at afp://saturn/Coordinators/Protocols/TED_PROTOCOLS/EXECUTIVE_829744/2022_data_freeze/inputs\n",
    "    #merged sheet of all pre/post scan scales, stored at afp://saturn/Coordinators/Protocols/TED_PROTOCOLS/EXECUTIVE_829744/2022_data_freeze/outputs\n",
    "#Outputs:\n",
    "    #a binary spreadsheet of pre/post scan SR data collected for T1 participants enrolled prior to April 1st, 2022 \n",
    "    #a binary spreadsheet of pre/post scan SR data collected for T2 participants enrolled prior to April 1st, 2022 "
   ]
  },
  {
   "cell_type": "code",
   "execution_count": 1,
   "metadata": {},
   "outputs": [],
   "source": [
    "import pandas as pd"
   ]
  },
  {
   "cell_type": "code",
   "execution_count": 2,
   "metadata": {},
   "outputs": [],
   "source": [
    "#read in T1 enrollment\n",
    "axis_t1=pd.read_csv('/Volumes/Coordinators/Protocols/TED_PROTOCOLS/EXECUTIVE_829744/2022_data_freeze/inputs/axis_enroll_t1.csv',dtype=str)\n",
    "axis_t1=axis_t1.drop(columns=['scan_1_date'])"
   ]
  },
  {
   "cell_type": "code",
   "execution_count": 3,
   "metadata": {},
   "outputs": [],
   "source": [
    "#reformat \n",
    "t1_enroll=axis_t1['bblid']\n",
    "t1_enroll=t1_enroll.tolist()\n",
    "t1_enroll = [str(t) for t in t1_enroll]"
   ]
  },
  {
   "cell_type": "code",
   "execution_count": 7,
   "metadata": {},
   "outputs": [],
   "source": [
    "#read in prescan SR data\n",
    "pre_scan=pd.read_csv('/Volumes/Coordinators/Protocols/TED_PROTOCOLS/EXECUTIVE_829744/2022_data_freeze/outputs/EF_all_prescan_scales.csv', dtype=str)"
   ]
  },
  {
   "cell_type": "code",
   "execution_count": 9,
   "metadata": {},
   "outputs": [],
   "source": [
    "#sort for t1 scales\n",
    "pre_scan_t1 = pre_scan[pre_scan.timepoint.eq('1')]"
   ]
  },
  {
   "cell_type": "code",
   "execution_count": 10,
   "metadata": {},
   "outputs": [],
   "source": [
    "#list ID's that have completed scales \n",
    "hasSTATE=[]\n",
    "hasTRAIT=[]\n",
    "\n",
    "for index, row in pre_scan_t1.iterrows():\n",
    "    for t in t1_enroll:\n",
    "        if (t in row['bblid']) and ('2' in (row['stai_state_complete'])):\n",
    "            #print(t, \"state!!\")\n",
    "            hasSTATE.append(t)\n",
    "        if (t in row['bblid']) and ('2' in (row['stai_trait_complete'])):\n",
    "            hasTRAIT.append(t)"
   ]
  },
  {
   "cell_type": "code",
   "execution_count": 11,
   "metadata": {},
   "outputs": [
    {
     "name": "stdout",
     "output_type": "stream",
     "text": [
      "173\n"
     ]
    }
   ],
   "source": [
    "#create a dataframe with all enrolled ID's\n",
    "audit = pd.DataFrame (t1_enroll, columns = ['BBLID'])\n",
    "print(len(audit))"
   ]
  },
  {
   "cell_type": "code",
   "execution_count": 12,
   "metadata": {},
   "outputs": [],
   "source": [
    "state=[]\n",
    "trait=[]\n",
    "\n",
    "for val in audit.values:\n",
    "    if val in hasSTATE:\n",
    "        state.append(1)\n",
    "    if val not in hasSTATE:\n",
    "        state.append(0)\n",
    "    if val in hasTRAIT:\n",
    "        trait.append(1)\n",
    "    if val not in hasTRAIT:\n",
    "        trait.append(0)"
   ]
  },
  {
   "cell_type": "code",
   "execution_count": 95,
   "metadata": {},
   "outputs": [],
   "source": [
    "#and for post..."
   ]
  },
  {
   "cell_type": "code",
   "execution_count": 14,
   "metadata": {},
   "outputs": [],
   "source": [
    "#read in postscan SR data\n",
    "post_scan=pd.read_csv('/Volumes/Coordinators/Protocols/TED_PROTOCOLS/EXECUTIVE_829744/2022_data_freeze/outputs/EF_all_postscan_scales.csv', dtype=str)"
   ]
  },
  {
   "cell_type": "code",
   "execution_count": 15,
   "metadata": {},
   "outputs": [],
   "source": [
    "#sort for t1 scales\n",
    "post_scan_t1 = post_scan[post_scan.timepoint.eq('1')]"
   ]
  },
  {
   "cell_type": "code",
   "execution_count": 16,
   "metadata": {},
   "outputs": [],
   "source": [
    "#list ID's that have completed scales \n",
    "hasSTATE2=[]\n",
    "\n",
    "for index, row in post_scan_t1.iterrows():\n",
    "    for t in t1_enroll:\n",
    "        if (t in row['bblid']) and ('2' in (row['stai_state_complete'])):\n",
    "            hasSTATE2.append(t)"
   ]
  },
  {
   "cell_type": "code",
   "execution_count": 17,
   "metadata": {},
   "outputs": [],
   "source": [
    "state2=[]\n",
    "\n",
    "for val in audit.values:\n",
    "    if val in hasSTATE2:\n",
    "        state2.append(1)\n",
    "    if val not in hasSTATE2:\n",
    "        state2.append(0)"
   ]
  },
  {
   "cell_type": "code",
   "execution_count": 18,
   "metadata": {},
   "outputs": [],
   "source": [
    "audit['pre_stai_state']=state\n",
    "audit['pre_stai_trait']=trait\n",
    "audit['post_stai_state']=state2"
   ]
  },
  {
   "cell_type": "code",
   "execution_count": 19,
   "metadata": {},
   "outputs": [
    {
     "data": {
      "text/html": [
       "<div>\n",
       "<style scoped>\n",
       "    .dataframe tbody tr th:only-of-type {\n",
       "        vertical-align: middle;\n",
       "    }\n",
       "\n",
       "    .dataframe tbody tr th {\n",
       "        vertical-align: top;\n",
       "    }\n",
       "\n",
       "    .dataframe thead th {\n",
       "        text-align: right;\n",
       "    }\n",
       "</style>\n",
       "<table border=\"1\" class=\"dataframe\">\n",
       "  <thead>\n",
       "    <tr style=\"text-align: right;\">\n",
       "      <th></th>\n",
       "      <th>BBLID</th>\n",
       "      <th>pre_stai_state</th>\n",
       "      <th>pre_stai_trait</th>\n",
       "      <th>post_stai_state</th>\n",
       "    </tr>\n",
       "  </thead>\n",
       "  <tbody>\n",
       "    <tr>\n",
       "      <th>0</th>\n",
       "      <td>19861</td>\n",
       "      <td>1</td>\n",
       "      <td>1</td>\n",
       "      <td>1</td>\n",
       "    </tr>\n",
       "    <tr>\n",
       "      <th>1</th>\n",
       "      <td>20124</td>\n",
       "      <td>1</td>\n",
       "      <td>1</td>\n",
       "      <td>0</td>\n",
       "    </tr>\n",
       "    <tr>\n",
       "      <th>2</th>\n",
       "      <td>20125</td>\n",
       "      <td>1</td>\n",
       "      <td>1</td>\n",
       "      <td>0</td>\n",
       "    </tr>\n",
       "    <tr>\n",
       "      <th>3</th>\n",
       "      <td>20139</td>\n",
       "      <td>1</td>\n",
       "      <td>1</td>\n",
       "      <td>0</td>\n",
       "    </tr>\n",
       "    <tr>\n",
       "      <th>4</th>\n",
       "      <td>20141</td>\n",
       "      <td>1</td>\n",
       "      <td>1</td>\n",
       "      <td>1</td>\n",
       "    </tr>\n",
       "  </tbody>\n",
       "</table>\n",
       "</div>"
      ],
      "text/plain": [
       "   BBLID  pre_stai_state  pre_stai_trait  post_stai_state\n",
       "0  19861               1               1                1\n",
       "1  20124               1               1                0\n",
       "2  20125               1               1                0\n",
       "3  20139               1               1                0\n",
       "4  20141               1               1                1"
      ]
     },
     "execution_count": 19,
     "metadata": {},
     "output_type": "execute_result"
    }
   ],
   "source": [
    "audit.head(n=5)"
   ]
  },
  {
   "cell_type": "code",
   "execution_count": 27,
   "metadata": {},
   "outputs": [],
   "source": [
    "audit.to_csv('/Volumes/Coordinators/Protocols/TED_PROTOCOLS/EXECUTIVE_829744/2022_data_freeze/audits/EF_T1_scan_scales_audit.csv', sep = ',', index=False)"
   ]
  },
  {
   "cell_type": "code",
   "execution_count": null,
   "metadata": {},
   "outputs": [],
   "source": [
    "#and T2 "
   ]
  },
  {
   "cell_type": "code",
   "execution_count": 28,
   "metadata": {},
   "outputs": [],
   "source": [
    "#read in T2 enrollment\n",
    "axis_t2=pd.read_csv('data/axis_enroll_t2.csv',dtype=str)\n",
    "axis_t2=axis_t2.drop(columns=['scan_2_date'])"
   ]
  },
  {
   "cell_type": "code",
   "execution_count": 29,
   "metadata": {},
   "outputs": [],
   "source": [
    "#reformat \n",
    "t2_enroll=axis_t2['bblid']\n",
    "t2_enroll=t2_enroll.tolist()\n",
    "t2_enroll = [str(t) for t in t2_enroll]"
   ]
  },
  {
   "cell_type": "code",
   "execution_count": 30,
   "metadata": {},
   "outputs": [],
   "source": [
    "#sort for t2 scales\n",
    "pre_scan_t2 = pre_scan[pre_scan.timepoint.eq('2')]"
   ]
  },
  {
   "cell_type": "code",
   "execution_count": 31,
   "metadata": {},
   "outputs": [],
   "source": [
    "#list ID's that have completed scales \n",
    "hasSTATE=[]\n",
    "hasTRAIT=[]\n",
    "\n",
    "for index, row in pre_scan_t2.iterrows():\n",
    "    for t in t2_enroll:\n",
    "        if (t in row['bblid']) and ('2' in (row['stai_state_complete'])):\n",
    "            hasSTATE.append(t)\n",
    "        if (t in row['bblid']) and ('2' in (row['stai_trait_complete'])):\n",
    "            hasTRAIT.append(t)"
   ]
  },
  {
   "cell_type": "code",
   "execution_count": 32,
   "metadata": {},
   "outputs": [
    {
     "name": "stdout",
     "output_type": "stream",
     "text": [
      "37\n"
     ]
    }
   ],
   "source": [
    "#create a dataframe with all enrolled ID's\n",
    "audit2 = pd.DataFrame (t2_enroll, columns = ['BBLID'])\n",
    "print(len(audit))"
   ]
  },
  {
   "cell_type": "code",
   "execution_count": 33,
   "metadata": {},
   "outputs": [],
   "source": [
    "state=[]\n",
    "trait=[]\n",
    "\n",
    "for val in audit.values:\n",
    "    if val in hasSTATE:\n",
    "        state.append(1)\n",
    "    if val not in hasSTATE:\n",
    "        state.append(0)\n",
    "    if val in hasTRAIT:\n",
    "        trait.append(1)\n",
    "    if val not in hasTRAIT:\n",
    "        trait.append(0)"
   ]
  },
  {
   "cell_type": "code",
   "execution_count": 34,
   "metadata": {},
   "outputs": [],
   "source": [
    "#and for post..."
   ]
  },
  {
   "cell_type": "code",
   "execution_count": 36,
   "metadata": {},
   "outputs": [],
   "source": [
    "#sort for t2 scales\n",
    "post_scan_t2 = post_scan[post_scan.timepoint.eq('2')]"
   ]
  },
  {
   "cell_type": "code",
   "execution_count": 37,
   "metadata": {},
   "outputs": [],
   "source": [
    "#list ID's that have completed scales \n",
    "hasSTATE2=[]\n",
    "\n",
    "for index, row in post_scan_t2.iterrows():\n",
    "    for t in t2_enroll:\n",
    "        if (t in row['bblid']) and ('2' in (row['stai_state_complete'])):\n",
    "            hasSTATE2.append(t)"
   ]
  },
  {
   "cell_type": "code",
   "execution_count": 38,
   "metadata": {},
   "outputs": [],
   "source": [
    "state2=[]\n",
    "\n",
    "for val in audit.values:\n",
    "    if val in hasSTATE2:\n",
    "        state2.append(1)\n",
    "    if val not in hasSTATE2:\n",
    "        state2.append(0)"
   ]
  },
  {
   "cell_type": "code",
   "execution_count": 39,
   "metadata": {},
   "outputs": [],
   "source": [
    "audit2['pre_stai_state']=state\n",
    "audit2['pre_stai_trait']=trait\n",
    "audit2['post_stai_state']=state2"
   ]
  },
  {
   "cell_type": "code",
   "execution_count": 40,
   "metadata": {},
   "outputs": [
    {
     "data": {
      "text/html": [
       "<div>\n",
       "<style scoped>\n",
       "    .dataframe tbody tr th:only-of-type {\n",
       "        vertical-align: middle;\n",
       "    }\n",
       "\n",
       "    .dataframe tbody tr th {\n",
       "        vertical-align: top;\n",
       "    }\n",
       "\n",
       "    .dataframe thead th {\n",
       "        text-align: right;\n",
       "    }\n",
       "</style>\n",
       "<table border=\"1\" class=\"dataframe\">\n",
       "  <thead>\n",
       "    <tr style=\"text-align: right;\">\n",
       "      <th></th>\n",
       "      <th>BBLID</th>\n",
       "      <th>pre_stai_state</th>\n",
       "      <th>pre_stai_trait</th>\n",
       "      <th>post_stai_state</th>\n",
       "    </tr>\n",
       "  </thead>\n",
       "  <tbody>\n",
       "    <tr>\n",
       "      <th>0</th>\n",
       "      <td>20139</td>\n",
       "      <td>1</td>\n",
       "      <td>1</td>\n",
       "      <td>1</td>\n",
       "    </tr>\n",
       "    <tr>\n",
       "      <th>1</th>\n",
       "      <td>20149</td>\n",
       "      <td>1</td>\n",
       "      <td>1</td>\n",
       "      <td>1</td>\n",
       "    </tr>\n",
       "    <tr>\n",
       "      <th>2</th>\n",
       "      <td>20188</td>\n",
       "      <td>1</td>\n",
       "      <td>1</td>\n",
       "      <td>1</td>\n",
       "    </tr>\n",
       "    <tr>\n",
       "      <th>3</th>\n",
       "      <td>20214</td>\n",
       "      <td>1</td>\n",
       "      <td>1</td>\n",
       "      <td>0</td>\n",
       "    </tr>\n",
       "    <tr>\n",
       "      <th>4</th>\n",
       "      <td>20238</td>\n",
       "      <td>1</td>\n",
       "      <td>1</td>\n",
       "      <td>0</td>\n",
       "    </tr>\n",
       "  </tbody>\n",
       "</table>\n",
       "</div>"
      ],
      "text/plain": [
       "   BBLID  pre_stai_state  pre_stai_trait  post_stai_state\n",
       "0  20139               1               1                1\n",
       "1  20149               1               1                1\n",
       "2  20188               1               1                1\n",
       "3  20214               1               1                0\n",
       "4  20238               1               1                0"
      ]
     },
     "execution_count": 40,
     "metadata": {},
     "output_type": "execute_result"
    }
   ],
   "source": [
    "audit2.head(n=5)"
   ]
  },
  {
   "cell_type": "code",
   "execution_count": 41,
   "metadata": {},
   "outputs": [],
   "source": [
    "audit2.to_csv('/Volumes/Coordinators/Protocols/TED_PROTOCOLS/EXECUTIVE_829744/2022_data_freeze/audits/EF_T2_scan_scales_audit.csv', sep = ',', index=False)"
   ]
  }
 ],
 "metadata": {
  "kernelspec": {
   "display_name": "Python 3",
   "language": "python",
   "name": "python3"
  },
  "language_info": {
   "codemirror_mode": {
    "name": "ipython",
    "version": 3
   },
   "file_extension": ".py",
   "mimetype": "text/x-python",
   "name": "python",
   "nbconvert_exporter": "python",
   "pygments_lexer": "ipython3",
   "version": "3.7.3"
  }
 },
 "nbformat": 4,
 "nbformat_minor": 2
}
