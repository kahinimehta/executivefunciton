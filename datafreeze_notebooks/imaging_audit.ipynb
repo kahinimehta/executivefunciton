{
 "cells": [
  {
   "cell_type": "code",
   "execution_count": null,
   "metadata": {},
   "outputs": [],
   "source": [
    "#This script creates a binary spreadsheet of all participants enrolled in EF and whether or not their imaginig \n",
    "#sequences are complete. \n",
    "#Inputs:\n",
    "    #enrollment sheets pulled from AXIS, stored at afp://saturn/Coordinators/Protocols/TED_PROTOCOLS/EXECUTIVE_829744/2022_data_freeze/inputs\n",
    "    #outputs of Flaudit gear (bids.csv, seqinfo.csv) stored at afp://saturn/Coordinators/Protocols/TED_PROTOCOLS/EXECUTIVE_829744/2022_data_freeze/inputs\n",
    "#Outputs:\n",
    "    #a binary spreadsheet of imaging data collected for T1 participants enrolled prior to April 1st, 2022 \n",
    "    #a binary spreadsheet of imaging data collected for T2 participants enrolled prior to April 1st, 2022 "
   ]
  },
  {
   "cell_type": "code",
   "execution_count": 2,
   "metadata": {},
   "outputs": [],
   "source": [
    "import pandas as pd\n",
    "import re"
   ]
  },
  {
   "cell_type": "code",
   "execution_count": 3,
   "metadata": {},
   "outputs": [],
   "source": [
    "axis_t1=pd.read_csv('/Volumes/Coordinators/Protocols/TED_PROTOCOLS/EXECUTIVE_829744/2022_data_freeze/inputs/axis_enroll_t1.csv')\n",
    "axis_t1=axis_t1.drop(columns=['scan_1_date'])\n",
    "#axis_t1"
   ]
  },
  {
   "cell_type": "code",
   "execution_count": 4,
   "metadata": {},
   "outputs": [],
   "source": [
    "t1_enroll=axis_t1['bblid']\n",
    "t1_enroll=t1_enroll.tolist()\n",
    "t1_enroll = [str(t) for t in t1_enroll]"
   ]
  },
  {
   "cell_type": "code",
   "execution_count": 5,
   "metadata": {},
   "outputs": [],
   "source": [
    "scan_id=axis_t1['scan_id_timepoint_1']\n",
    "scan_id=scan_id.tolist()\n",
    "scan_id=[str(t) for t in scan_id]"
   ]
  },
  {
   "cell_type": "code",
   "execution_count": 6,
   "metadata": {},
   "outputs": [
    {
     "name": "stdout",
     "output_type": "stream",
     "text": [
      "['11012', '10960', '10959', '11138', '11000', '11003', '11140', '11115', '11209', '11126', '11112', '11316', '11143', '11142', '11249', '11127', '11290', '11291', '11208', '11206', '11159', '11242', '11207', '11160', '11161', '11146', '11132', '11184', '11147', '11221', '11180', '11210', '11211', '11205', '11233', '11217', '11238', '11276', '11302', '11289', '11264', '11324', '11320', '11370', '11321', '11319', '11332', '11334', '11365', '11375', '11351', '11359', '11404', '11405', '11366', '11392', '11396', '11376', '11381', '11399', '11397', '11385', '11386', '11388', '11387', '11417', '11440', '11441', '11416', '11433', '11443', '11419', '11436', '11452', '11453', '11438', '11448', '11451', '11455', '11460', '11475', '11468', '11148', '11577', '11473', '11465', '11640', '11574', '11488', '11720', '11492', '11541', '11576', '11798', '11625', '11651', '11702', '11664', '11685', '11794', '11829', '11723', '11780', '11824', '11825', '11750', '11779', '11755', '11751', '11793', '11781', '11848', '11849', '11875', '11862', '11853', '11885', '11886', '11960', '11981', '11955', '12097', '12046', '12057', '12080', '12081', '12106', '12107', '12508', '11533']\n"
     ]
    }
   ],
   "source": [
    "#make a list of T1 scan IDs\n",
    "t1_scan=[]\n",
    "for s in scan_id:\n",
    "    if 'nan' not in s:\n",
    "        t=s.split('.')[0]\n",
    "        #print(t)\n",
    "        t1_scan.append(t)\n",
    "print(t1_scan)"
   ]
  },
  {
   "cell_type": "code",
   "execution_count": 7,
   "metadata": {},
   "outputs": [],
   "source": [
    "#read in BIDS data from flaudit \n",
    "bids = pd.read_csv('/Volumes/Coordinators/Protocols/TED_PROTOCOLS/EXECUTIVE_829744/2022_data_freeze/inputs/flaudit_bids.csv')"
   ]
  },
  {
   "cell_type": "code",
   "execution_count": 8,
   "metadata": {},
   "outputs": [],
   "source": [
    "#first, we reformat the sheet with new variables of interest\n",
    "new = bids[\"Filename\"].str.split(\"-\", n = 1, expand = True)\n",
    "  \n",
    "# making separate first name column from new data frame\n",
    "bids[\"BBLID\"]= new[1]\n",
    "\n",
    "# making separate last name column from new data frame\n",
    "bids[\"File\"]= new[1]\n",
    "  \n",
    "#split again\n",
    "new2 = bids[\"BBLID\"].str.split(\"_\", n = 1, expand = True)\n",
    "new3 = bids[\"File\"].str.split(\"_\", n=2, expand=True)\n",
    "  \n",
    "# making separate first name column from new data frame\n",
    "bids[\"BBLID\"]= new2[0]\n",
    "bids[\"File\"]=new3[2]"
   ]
  },
  {
   "cell_type": "code",
   "execution_count": 9,
   "metadata": {},
   "outputs": [],
   "source": [
    "#next, we drop blank columns\n",
    "bids = bids[bids['Filename'].notna()]\n",
    "\n",
    "#and we filter by session id to ensure we get only t1 sessions \n",
    "bids_t1 = bids[bids['session_id'].isin(t1_scan)]"
   ]
  },
  {
   "cell_type": "code",
   "execution_count": 10,
   "metadata": {},
   "outputs": [],
   "source": [
    "bids_t1 = bids_t1.reset_index()  # make sure indexes pair with number of rows"
   ]
  },
  {
   "cell_type": "code",
   "execution_count": 11,
   "metadata": {},
   "outputs": [],
   "source": [
    "#iterate through BIDS output to determine if each BBLID has data that matches a specific file name:\n",
    "hast1=[]\n",
    "hast2=[]\n",
    "hasdwi=[]\n",
    "hasrest1=[]\n",
    "hasrest2=[]\n",
    "hasfrac=[]\n",
    "hasasl=[]\n",
    "\n",
    "for index, row in bids_t1.iterrows():\n",
    "    for t in t1_enroll:\n",
    "        if (t in row['BBLID']) and ('T1w.nii.gz' in (row['File'])):\n",
    "            #print(t, \"t1!\")\n",
    "            hast1.append(t)\n",
    "        if (t in row['BBLID']) and ('T2w.nii.gz' in (row['File'])):\n",
    "            hast2.append(t)\n",
    "        if (t in row['BBLID']) and ('multiband_dwi.nii.gz' in (row['File'])):\n",
    "            hasdwi.append(t)\n",
    "        if (t in row['BBLID']) and ('task-restbold_run-1_bold.nii.gz' in (row['File'])):\n",
    "            hasrest1.append(t)\n",
    "        if (t in row['BBLID']) and ('task-restbold_run-2_bold.nii.gz' in (row['File'])):\n",
    "            hasrest2.append(t)\n",
    "        if (t in row['BBLID']) and ('task-fracback_acq-singleband_bold.nii.gz' in (row['File'])):\n",
    "            hasfrac.append(t)\n",
    "        if (t in row['BBLID']) and ('asl.nii.gz' in (row['File'])):\n",
    "            hasasl.append(t)"
   ]
  },
  {
   "cell_type": "code",
   "execution_count": 12,
   "metadata": {},
   "outputs": [
    {
     "name": "stdout",
     "output_type": "stream",
     "text": [
      "173\n"
     ]
    }
   ],
   "source": [
    "#create a dataframe with all enrolled ID's\n",
    "audit = pd.DataFrame (t1_enroll, columns = ['BBLID'])\n",
    "print(len(audit))"
   ]
  },
  {
   "cell_type": "code",
   "execution_count": 13,
   "metadata": {},
   "outputs": [],
   "source": [
    "#as qsm is currently not in BIDS, we use the SEQINFO output from flaudit to check QSM\n",
    "seqinfo = pd.read_csv('data/seqinfo.csv')\n",
    "qsm_names = ['qsm_acq-1.5mm_GRE', 'QSM_SWI_1.5mm']\n",
    "hasqsm = seqinfo[seqinfo['series_description'].isin(qsm_names)]\n",
    "hasqsm= hasqsm[hasqsm['session_id'].isin(t1_scan)]"
   ]
  },
  {
   "cell_type": "code",
   "execution_count": 14,
   "metadata": {},
   "outputs": [],
   "source": [
    "#change type of variable to string so that the loop works\n",
    "hasqsm = hasqsm.astype({\"patient_id\": str})"
   ]
  },
  {
   "cell_type": "code",
   "execution_count": 15,
   "metadata": {},
   "outputs": [],
   "source": [
    "#now, iterate through list of ID's to determine if each scan has each acquisition, and create a binary list.\n",
    "\n",
    "t1=[]\n",
    "t2=[]\n",
    "dwi=[]\n",
    "rest1=[]\n",
    "rest2=[]\n",
    "frac=[]\n",
    "asl=[]\n",
    "\n",
    "for val in audit.values:\n",
    "    if val in hast1:\n",
    "        t1.append(1)\n",
    "    if val not in hast1:\n",
    "        t1.append(0)\n",
    "    if val in hast2:\n",
    "        t2.append(1)\n",
    "    if val not in hast2:\n",
    "        t2.append(0)\n",
    "    if val in hasdwi:\n",
    "        dwi.append(1)\n",
    "    if val not in hasdwi:\n",
    "        dwi.append(0)\n",
    "    if val in hasrest1:\n",
    "        rest1.append(1)\n",
    "    if val not in hasrest1:\n",
    "        rest1.append(0)\n",
    "    if val in hasrest2:\n",
    "        rest2.append(1)\n",
    "    if val not in hasrest2:\n",
    "        rest2.append(0)\n",
    "    if val in hasfrac:\n",
    "        frac.append(1)\n",
    "    if val not in hasfrac:\n",
    "        frac.append(0)\n",
    "    if val in hasasl:\n",
    "        asl.append(1)\n",
    "    if val not in hasasl:\n",
    "        asl.append(0)\n",
    "    #if val in [row for row in qsm['patient_id']]:\n",
    "        #qsm.append(1)\n",
    "    #if val not in [row for row in qsm['patient_id']]:\n",
    "        #qsm.append(0)"
   ]
  },
  {
   "cell_type": "code",
   "execution_count": 16,
   "metadata": {},
   "outputs": [],
   "source": [
    "#iterate through list of ID's with QSM in the same way. \n",
    "qsm=[]\n",
    "for val in audit.values:\n",
    "    if val in [row for row in hasqsm['patient_id']]:\n",
    "        qsm.append(1)\n",
    "    else:\n",
    "        qsm.append(0)"
   ]
  },
  {
   "cell_type": "code",
   "execution_count": 17,
   "metadata": {},
   "outputs": [],
   "source": [
    "#reformat scan ID column to match up in the audit fields. \n",
    "scanid1=[]\n",
    "for s in scan_id:\n",
    "    t=s.split('.')[0]\n",
    "    #print(t)\n",
    "    scanid1.append(t)"
   ]
  },
  {
   "cell_type": "code",
   "execution_count": 18,
   "metadata": {},
   "outputs": [],
   "source": [
    "#fill in the rest of the spreadsheet\n",
    "audit['scanid']=scanid1\n",
    "audit['t1']=t1\n",
    "audit['t2']=t2\n",
    "audit['dwi']=dwi\n",
    "audit['rest1']=rest1\n",
    "audit['frac']=frac\n",
    "audit['rest2']=rest2\n",
    "audit['asl']=asl\n",
    "audit['qsm']=qsm"
   ]
  },
  {
   "cell_type": "code",
   "execution_count": 21,
   "metadata": {
    "scrolled": true
   },
   "outputs": [
    {
     "data": {
      "text/html": [
       "<div>\n",
       "<style scoped>\n",
       "    .dataframe tbody tr th:only-of-type {\n",
       "        vertical-align: middle;\n",
       "    }\n",
       "\n",
       "    .dataframe tbody tr th {\n",
       "        vertical-align: top;\n",
       "    }\n",
       "\n",
       "    .dataframe thead th {\n",
       "        text-align: right;\n",
       "    }\n",
       "</style>\n",
       "<table border=\"1\" class=\"dataframe\">\n",
       "  <thead>\n",
       "    <tr style=\"text-align: right;\">\n",
       "      <th></th>\n",
       "      <th>BBLID</th>\n",
       "      <th>scanid</th>\n",
       "      <th>t1</th>\n",
       "      <th>t2</th>\n",
       "      <th>dwi</th>\n",
       "      <th>rest1</th>\n",
       "      <th>frac</th>\n",
       "      <th>rest2</th>\n",
       "      <th>asl</th>\n",
       "      <th>qsm</th>\n",
       "    </tr>\n",
       "  </thead>\n",
       "  <tbody>\n",
       "    <tr>\n",
       "      <th>0</th>\n",
       "      <td>19861</td>\n",
       "      <td>11012</td>\n",
       "      <td>1</td>\n",
       "      <td>1</td>\n",
       "      <td>1</td>\n",
       "      <td>1</td>\n",
       "      <td>1</td>\n",
       "      <td>1</td>\n",
       "      <td>1</td>\n",
       "      <td>1</td>\n",
       "    </tr>\n",
       "    <tr>\n",
       "      <th>1</th>\n",
       "      <td>20124</td>\n",
       "      <td>10960</td>\n",
       "      <td>1</td>\n",
       "      <td>1</td>\n",
       "      <td>1</td>\n",
       "      <td>1</td>\n",
       "      <td>0</td>\n",
       "      <td>0</td>\n",
       "      <td>0</td>\n",
       "      <td>0</td>\n",
       "    </tr>\n",
       "    <tr>\n",
       "      <th>2</th>\n",
       "      <td>20125</td>\n",
       "      <td>10959</td>\n",
       "      <td>1</td>\n",
       "      <td>1</td>\n",
       "      <td>1</td>\n",
       "      <td>1</td>\n",
       "      <td>0</td>\n",
       "      <td>0</td>\n",
       "      <td>0</td>\n",
       "      <td>0</td>\n",
       "    </tr>\n",
       "    <tr>\n",
       "      <th>3</th>\n",
       "      <td>20139</td>\n",
       "      <td>11138</td>\n",
       "      <td>1</td>\n",
       "      <td>1</td>\n",
       "      <td>1</td>\n",
       "      <td>1</td>\n",
       "      <td>1</td>\n",
       "      <td>1</td>\n",
       "      <td>1</td>\n",
       "      <td>1</td>\n",
       "    </tr>\n",
       "    <tr>\n",
       "      <th>4</th>\n",
       "      <td>20141</td>\n",
       "      <td>11000</td>\n",
       "      <td>1</td>\n",
       "      <td>1</td>\n",
       "      <td>1</td>\n",
       "      <td>1</td>\n",
       "      <td>1</td>\n",
       "      <td>1</td>\n",
       "      <td>1</td>\n",
       "      <td>1</td>\n",
       "    </tr>\n",
       "  </tbody>\n",
       "</table>\n",
       "</div>"
      ],
      "text/plain": [
       "   BBLID scanid  t1  t2  dwi  rest1  frac  rest2  asl  qsm\n",
       "0  19861  11012   1   1    1      1     1      1    1    1\n",
       "1  20124  10960   1   1    1      1     0      0    0    0\n",
       "2  20125  10959   1   1    1      1     0      0    0    0\n",
       "3  20139  11138   1   1    1      1     1      1    1    1\n",
       "4  20141  11000   1   1    1      1     1      1    1    1"
      ]
     },
     "execution_count": 21,
     "metadata": {},
     "output_type": "execute_result"
    }
   ],
   "source": [
    "audit.head(n=5)"
   ]
  },
  {
   "cell_type": "code",
   "execution_count": 22,
   "metadata": {},
   "outputs": [],
   "source": [
    "audit.to_csv('/Volumes/Coordinators/Protocols/TED_PROTOCOLS/EXECUTIVE_829744/2022_data_freeze/audits/EF_T1_imaging_audit.csv', sep = ',', index=False)"
   ]
  },
  {
   "cell_type": "code",
   "execution_count": null,
   "metadata": {},
   "outputs": [],
   "source": [
    "#now for T2..."
   ]
  },
  {
   "cell_type": "code",
   "execution_count": 23,
   "metadata": {},
   "outputs": [],
   "source": [
    "axis_t2=pd.read_csv('/Volumes/Coordinators/Protocols/TED_PROTOCOLS/EXECUTIVE_829744/2022_data_freeze/inputs/axis_enroll_t2.csv')\n",
    "axis_t2=axis_t2.drop(columns=['scan_2_date'])\n",
    "#axis_t2"
   ]
  },
  {
   "cell_type": "code",
   "execution_count": 24,
   "metadata": {},
   "outputs": [],
   "source": [
    "t2_enroll=axis_t2['bblid']\n",
    "t2_enroll=t2_enroll.tolist()\n",
    "t2_enroll = [str(t) for t in t2_enroll]"
   ]
  },
  {
   "cell_type": "code",
   "execution_count": 25,
   "metadata": {},
   "outputs": [],
   "source": [
    "scan_id2=axis_t2['scan_id_t2']\n",
    "scan_id2=scan_id2.tolist()\n",
    "scan_id2=[str(t) for t in scan_id2]"
   ]
  },
  {
   "cell_type": "code",
   "execution_count": 26,
   "metadata": {},
   "outputs": [
    {
     "name": "stdout",
     "output_type": "stream",
     "text": [
      "['11657', '11831', '11594', '11659', '11612', '11608', '11608', '11584', '11823', '11603', '11604', '11635', '11678', '11660', '11631', '12098', '11679', '11738', '11771', '11694', '11474', '11692', '11719', '11881', '11882', '11835', '11946', '12032', '12004', '11897', '12063', '11873', '11891', '12060', '11931', '12044', '12143']\n"
     ]
    }
   ],
   "source": [
    "t2_scan=[]\n",
    "for s in scan_id2:\n",
    "    if 'nan' not in s:\n",
    "        t=s.split('.')[0]\n",
    "        #print(t)\n",
    "        t2_scan.append(t)\n",
    "print(t2_scan)"
   ]
  },
  {
   "cell_type": "code",
   "execution_count": 27,
   "metadata": {},
   "outputs": [],
   "source": [
    "#and we filter by session id to ensure we get only t1 sessions \n",
    "bids_t2 = bids[bids['session_id'].isin(t2_scan)]"
   ]
  },
  {
   "cell_type": "code",
   "execution_count": 28,
   "metadata": {},
   "outputs": [],
   "source": [
    "#iterate through BIDS output to determine if each BBLID has data that matches a specific file name:\n",
    "hast1=[]\n",
    "hast2=[]\n",
    "hasdwi=[]\n",
    "hasrest1=[]\n",
    "hasrest2=[]\n",
    "hasfrac=[]\n",
    "hasasl=[]\n",
    "\n",
    "for index, row in bids_t2.iterrows():\n",
    "    for t in t1_enroll:\n",
    "        if (t in row['BBLID']) and ('T1w.nii.gz' in (row['File'])):\n",
    "            #print(t, \"t1!\")\n",
    "            hast1.append(t)\n",
    "        if (t in row['BBLID']) and ('T2w.nii.gz' in (row['File'])):\n",
    "            hast2.append(t)\n",
    "        if (t in row['BBLID']) and ('multiband_dwi.nii.gz' in (row['File'])):\n",
    "            hasdwi.append(t)\n",
    "        if (t in row['BBLID']) and ('task-restbold_run-1_bold.nii.gz' in (row['File'])):\n",
    "            hasrest1.append(t)\n",
    "        if (t in row['BBLID']) and ('task-restbold_run-2_bold.nii.gz' in (row['File'])):\n",
    "            hasrest2.append(t)\n",
    "        if (t in row['BBLID']) and ('task-fracback_acq-singleband_bold.nii.gz' in (row['File'])):\n",
    "            hasfrac.append(t)\n",
    "        if (t in row['BBLID']) and ('asl.nii.gz' in (row['File'])):\n",
    "            hasasl.append(t)"
   ]
  },
  {
   "cell_type": "code",
   "execution_count": 29,
   "metadata": {},
   "outputs": [
    {
     "name": "stdout",
     "output_type": "stream",
     "text": [
      "37\n"
     ]
    }
   ],
   "source": [
    "#create a dataframe with all enrolled ID's\n",
    "audit2 = pd.DataFrame (t2_enroll, columns = ['BBLID'])\n",
    "print(len(audit2))"
   ]
  },
  {
   "cell_type": "code",
   "execution_count": 30,
   "metadata": {},
   "outputs": [],
   "source": [
    "#iterate through list of ID's w QSM to create binary list \n",
    "qsm=[]\n",
    "for val in audit2.values:\n",
    "    if val in [row for row in hasqsm['patient_id']]:\n",
    "        qsm.append(1)\n",
    "    else:\n",
    "        qsm.append(0)"
   ]
  },
  {
   "cell_type": "code",
   "execution_count": 31,
   "metadata": {},
   "outputs": [],
   "source": [
    "#now, iterate through list of ID's using each sequence to create binary list \n",
    "\n",
    "t1=[]\n",
    "t2=[]\n",
    "dwi=[]\n",
    "rest1=[]\n",
    "rest2=[]\n",
    "frac=[]\n",
    "asl=[]\n",
    "\n",
    "for val in audit2.values:\n",
    "    if val in hast1:\n",
    "        #print('yay!')\n",
    "        t1.append(1)\n",
    "    if val not in hast1:\n",
    "        t1.append(0)\n",
    "    if val in hast2:\n",
    "        t2.append(1)\n",
    "    if val not in hast2:\n",
    "        t2.append(0)\n",
    "    if val in hasdwi:\n",
    "        dwi.append(1)\n",
    "    if val not in hasdwi:\n",
    "        dwi.append(0)\n",
    "    if val in hasrest1:\n",
    "        rest1.append(1)\n",
    "    if val not in hasrest1:\n",
    "        rest1.append(0)\n",
    "    if val in hasrest2:\n",
    "        rest2.append(1)\n",
    "    if val not in hasrest2:\n",
    "        rest2.append(0)\n",
    "    if val in hasfrac:\n",
    "        frac.append(1)\n",
    "    if val not in hasfrac:\n",
    "        frac.append(0)\n",
    "    if val in hasasl:\n",
    "        asl.append(1)\n",
    "    if val not in hasasl:\n",
    "        asl.append(0)\n",
    "    #if val in [row for row in qsm['patient_id']]:\n",
    "        #qsm.append(1)\n",
    "    #if val not in [row for row in qsm['patient_id']]:\n",
    "        #qsm.append(0)"
   ]
  },
  {
   "cell_type": "code",
   "execution_count": 32,
   "metadata": {},
   "outputs": [],
   "source": [
    "audit2['scanid']=t2_scan\n",
    "audit2['t1']=t1\n",
    "audit2['t2']=t2\n",
    "audit2['dwi']=dwi\n",
    "audit2['rest1']=rest1\n",
    "audit2['frac']=frac\n",
    "audit2['rest2']=rest2\n",
    "audit2['asl']=asl\n",
    "audit2['qsm']=qsm"
   ]
  },
  {
   "cell_type": "code",
   "execution_count": 33,
   "metadata": {},
   "outputs": [
    {
     "data": {
      "text/html": [
       "<div>\n",
       "<style scoped>\n",
       "    .dataframe tbody tr th:only-of-type {\n",
       "        vertical-align: middle;\n",
       "    }\n",
       "\n",
       "    .dataframe tbody tr th {\n",
       "        vertical-align: top;\n",
       "    }\n",
       "\n",
       "    .dataframe thead th {\n",
       "        text-align: right;\n",
       "    }\n",
       "</style>\n",
       "<table border=\"1\" class=\"dataframe\">\n",
       "  <thead>\n",
       "    <tr style=\"text-align: right;\">\n",
       "      <th></th>\n",
       "      <th>BBLID</th>\n",
       "      <th>scanid</th>\n",
       "      <th>t1</th>\n",
       "      <th>t2</th>\n",
       "      <th>dwi</th>\n",
       "      <th>rest1</th>\n",
       "      <th>frac</th>\n",
       "      <th>rest2</th>\n",
       "      <th>asl</th>\n",
       "      <th>qsm</th>\n",
       "    </tr>\n",
       "  </thead>\n",
       "  <tbody>\n",
       "    <tr>\n",
       "      <th>0</th>\n",
       "      <td>20139</td>\n",
       "      <td>11657</td>\n",
       "      <td>1</td>\n",
       "      <td>1</td>\n",
       "      <td>1</td>\n",
       "      <td>1</td>\n",
       "      <td>1</td>\n",
       "      <td>1</td>\n",
       "      <td>1</td>\n",
       "      <td>1</td>\n",
       "    </tr>\n",
       "    <tr>\n",
       "      <th>1</th>\n",
       "      <td>20149</td>\n",
       "      <td>11831</td>\n",
       "      <td>1</td>\n",
       "      <td>1</td>\n",
       "      <td>1</td>\n",
       "      <td>1</td>\n",
       "      <td>1</td>\n",
       "      <td>1</td>\n",
       "      <td>1</td>\n",
       "      <td>1</td>\n",
       "    </tr>\n",
       "    <tr>\n",
       "      <th>2</th>\n",
       "      <td>20188</td>\n",
       "      <td>11594</td>\n",
       "      <td>1</td>\n",
       "      <td>1</td>\n",
       "      <td>1</td>\n",
       "      <td>1</td>\n",
       "      <td>1</td>\n",
       "      <td>1</td>\n",
       "      <td>1</td>\n",
       "      <td>1</td>\n",
       "    </tr>\n",
       "    <tr>\n",
       "      <th>3</th>\n",
       "      <td>20214</td>\n",
       "      <td>11659</td>\n",
       "      <td>1</td>\n",
       "      <td>1</td>\n",
       "      <td>1</td>\n",
       "      <td>1</td>\n",
       "      <td>1</td>\n",
       "      <td>1</td>\n",
       "      <td>1</td>\n",
       "      <td>1</td>\n",
       "    </tr>\n",
       "    <tr>\n",
       "      <th>4</th>\n",
       "      <td>20238</td>\n",
       "      <td>11612</td>\n",
       "      <td>1</td>\n",
       "      <td>1</td>\n",
       "      <td>1</td>\n",
       "      <td>1</td>\n",
       "      <td>1</td>\n",
       "      <td>1</td>\n",
       "      <td>1</td>\n",
       "      <td>1</td>\n",
       "    </tr>\n",
       "  </tbody>\n",
       "</table>\n",
       "</div>"
      ],
      "text/plain": [
       "   BBLID scanid  t1  t2  dwi  rest1  frac  rest2  asl  qsm\n",
       "0  20139  11657   1   1    1      1     1      1    1    1\n",
       "1  20149  11831   1   1    1      1     1      1    1    1\n",
       "2  20188  11594   1   1    1      1     1      1    1    1\n",
       "3  20214  11659   1   1    1      1     1      1    1    1\n",
       "4  20238  11612   1   1    1      1     1      1    1    1"
      ]
     },
     "execution_count": 33,
     "metadata": {},
     "output_type": "execute_result"
    }
   ],
   "source": [
    "audit2.head(n=5)"
   ]
  },
  {
   "cell_type": "code",
   "execution_count": 34,
   "metadata": {},
   "outputs": [],
   "source": [
    "audit2.to_csv('/Volumes/Coordinators/Protocols/TED_PROTOCOLS/EXECUTIVE_829744/2022_data_freeze/audits/EF_T2_imaging_audit.csv', sep = ',', index=False)"
   ]
  }
 ],
 "metadata": {
  "kernelspec": {
   "display_name": "Python 3",
   "language": "python",
   "name": "python3"
  },
  "language_info": {
   "codemirror_mode": {
    "name": "ipython",
    "version": 3
   },
   "file_extension": ".py",
   "mimetype": "text/x-python",
   "name": "python",
   "nbconvert_exporter": "python",
   "pygments_lexer": "ipython3",
   "version": "3.7.3"
  }
 },
 "nbformat": 4,
 "nbformat_minor": 2
}
