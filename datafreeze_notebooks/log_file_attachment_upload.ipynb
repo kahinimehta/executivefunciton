{
 "cells": [
  {
   "cell_type": "code",
   "execution_count": null,
   "metadata": {},
   "outputs": [],
   "source": [
    "#This script uploads .log files from pennbox to flywheel at the acquisition level.\n",
    "#Inputs:\n",
    "    #directory of raw .log files (from PennBox)\n",
    "#Outputs: \n",
    "    #none"
   ]
  },
  {
   "cell_type": "code",
   "execution_count": 1,
   "metadata": {},
   "outputs": [],
   "source": [
    "import glob\n",
    "import flywheel\n",
    "import pandas as pd\n",
    "fw = flywheel.Client()"
   ]
  },
  {
   "cell_type": "code",
   "execution_count": 2,
   "metadata": {},
   "outputs": [
    {
     "name": "stderr",
     "output_type": "stream",
     "text": [
      "/Users/krmurtha/anaconda3/lib/python3.7/site-packages/flywheel/flywheel.py:6274: UserWarning: Client version 14.6.6 does not match server version 16.4.3. Please update your client version!\n",
      "  warnings.warn('Client version {} does not match server version {}. Please update your client version!'.format(SDK_VERSION, release_version))\n",
      "WARNING:Flywheel:Use \"pip install flywheel-sdk~=16.4.4\" to install a compatible version for this server\n"
     ]
    }
   ],
   "source": [
    "EFProj=fw.projects.find_first('label=EFR01')\n",
    "#print(EFProj)"
   ]
  },
  {
   "cell_type": "code",
   "execution_count": 3,
   "metadata": {},
   "outputs": [],
   "source": [
    "#loop through subs and get sessions\n",
    "subjects=EFProj.subjects()\n",
    "\n",
    "sessions=[]\n",
    "for s in subjects :\n",
    "    tempsessions=s.sessions()\n",
    "    sessions.extend(tempsessions)"
   ]
  },
  {
   "cell_type": "code",
   "execution_count": 6,
   "metadata": {},
   "outputs": [],
   "source": [
    "#isolate sessions without log files already attached\n",
    "sessions_2=[]\n",
    "for ses in sessions:\n",
    "    acq=ses.acquisitions()\n",
    "    for a in acq:\n",
    "        EFFiles=a.files\n",
    "        EFTypes=[x.type for x in EFFiles]\n",
    "        if 'ABCD_fMRI_frac-no-back-run1' in a.label or 'func_task-fracnoback_run-02' in a.label:\n",
    "            #print(EFTypes)\n",
    "            if 'nifti' in EFTypes and 'log' not in EFTypes: \n",
    "                sessions_2.append(ses)"
   ]
  },
  {
   "cell_type": "code",
   "execution_count": 8,
   "metadata": {},
   "outputs": [],
   "source": [
    "#check these ID's don't have attachments \n",
    "#print(sessions_2)"
   ]
  },
  {
   "cell_type": "code",
   "execution_count": 7,
   "metadata": {},
   "outputs": [],
   "source": [
    "root_dir = '/Users/krmurtha/Box Sync/EXECUTIVE_FUNCTION/SCANNER_TASK/' #change file path for appropriate user \n",
    "bids_dir = 'SCANNER_TASK_T2/'\n",
    "all_files2=glob.glob(root_dir + bids_dir + '*/*')\n",
    "#print(all_files2)"
   ]
  },
  {
   "cell_type": "code",
   "execution_count": 8,
   "metadata": {},
   "outputs": [],
   "source": [
    "root_dir = '/Users/krmurtha/Box Sync/EXECUTIVE_FUNCTION/SCANNER_TASK/' #change file path for appropriate user \n",
    "bids_dir = 'T1_Rename_2022_CORRECT/'\n",
    "all_files1=glob.glob(root_dir + bids_dir + '*/*')\n",
    "#print(all_files1)"
   ]
  },
  {
   "cell_type": "code",
   "execution_count": 10,
   "metadata": {},
   "outputs": [],
   "source": [
    "to_upload1=[]\n",
    "for file in all_files1:\n",
    "    if '.log' in file:\n",
    "        to_upload1.append(file)\n",
    "        #print(file)\n",
    "#print(to_upload1)   "
   ]
  },
  {
   "cell_type": "code",
   "execution_count": 12,
   "metadata": {},
   "outputs": [],
   "source": [
    "to_upload2=[]\n",
    "for file in all_files2:\n",
    "    if '.log' in file:\n",
    "        to_upload2.append(file)\n",
    "#print(to_upload2)       "
   ]
  },
  {
   "cell_type": "code",
   "execution_count": 11,
   "metadata": {
    "scrolled": true
   },
   "outputs": [
    {
     "name": "stdout",
     "output_type": "stream",
     "text": [
      "uploading /Users/krmurtha/Box Sync/EXECUTIVE_FUNCTION/SCANNER_TASK/T1_Rename_2022_CORRECT/20303_11206/20303_11206-frac2B_1.00_no1B.log to 11206\n",
      "uploading /Users/krmurtha/Box Sync/EXECUTIVE_FUNCTION/SCANNER_TASK/T1_Rename_2022_CORRECT/20403_11211/20403_11211-frac2B_1.00_no1B.log to 11211\n",
      "uploading /Users/krmurtha/Box Sync/EXECUTIVE_FUNCTION/SCANNER_TASK/T1_Rename_2022_CORRECT/20302_11208/20302_11208-frac2B_1.00_no1B.log to 11208\n",
      "uploading /Users/krmurtha/Box Sync/EXECUTIVE_FUNCTION/SCANNER_TASK/T1_Rename_2022_CORRECT/20212_11209/20212_11209-frac2B_1.00_no1B.log to 11209\n",
      "uploading /Users/krmurtha/Box Sync/EXECUTIVE_FUNCTION/SCANNER_TASK/T1_Rename_2022_CORRECT/20402_11210/20402_11210-frac2B_1.00_no1B.log to 11210\n",
      "uploading /Users/krmurtha/Box Sync/EXECUTIVE_FUNCTION/SCANNER_TASK/T1_Rename_2022_CORRECT/20448_11217/20448_11217-frac2B_1.00_no1B.log to 11217\n",
      "uploading /Users/krmurtha/Box Sync/EXECUTIVE_FUNCTION/SCANNER_TASK/T1_Rename_2022_CORRECT/20427_11233/20427_11233-frac2B_1.00_no1B.log to 11233\n",
      "uploading /Users/krmurtha/Box Sync/EXECUTIVE_FUNCTION/SCANNER_TASK/T1_Rename_2022_CORRECT/20463_11238/20463_11238-frac2B_1.00_no1B.log to 11238\n",
      "uploading /Users/krmurtha/Box Sync/EXECUTIVE_FUNCTION/SCANNER_TASK/T1_Rename_2022_CORRECT/20310_11242/20310_11242-frac2B_1.00_no1B.log to 11242\n",
      "uploading /Users/krmurtha/Box Sync/EXECUTIVE_FUNCTION/SCANNER_TASK/T1_Rename_2022_CORRECT/20612_11264/20612_11264-frac2B_1.00_no1B.log to 11264\n",
      "uploading /Users/krmurtha/Box Sync/EXECUTIVE_FUNCTION/SCANNER_TASK/T1_Rename_2022_CORRECT/20494_11276/20494_11276-frac2B_1.00_no1B.log to 11276\n",
      "uploading /Users/krmurtha/Box Sync/EXECUTIVE_FUNCTION/SCANNER_TASK/T1_Rename_2022_CORRECT/20572_11289/20572_11289-frac2B_1.00_no1B.log to 11289\n",
      "uploading /Users/krmurtha/Box Sync/EXECUTIVE_FUNCTION/SCANNER_TASK/T1_Rename_2022_CORRECT/20533_11302/20533_11302-frac2B_1.00_no1B.log to 11302\n",
      "uploading /Users/krmurtha/Box Sync/EXECUTIVE_FUNCTION/SCANNER_TASK/T1_Rename_2022_CORRECT/20724_11319/20724_11319-frac2B_1.00_no1B.log to 11319\n",
      "uploading /Users/krmurtha/Box Sync/EXECUTIVE_FUNCTION/SCANNER_TASK/T1_Rename_2022_CORRECT/20721_11321/20721_11321-frac2B_1.00_no1B.log to 11321\n",
      "uploading /Users/krmurtha/Box Sync/EXECUTIVE_FUNCTION/SCANNER_TASK/T1_Rename_2022_CORRECT/20691_11320/20691_11320-frac2B_1.00_no1B.log to 11320\n",
      "uploading /Users/krmurtha/Box Sync/EXECUTIVE_FUNCTION/SCANNER_TASK/T1_Rename_2022_CORRECT/20238_11316/20238_11316-frac2B_1.00_no1B.log to 11316\n",
      "uploading /Users/krmurtha/Box Sync/EXECUTIVE_FUNCTION/SCANNER_TASK/T1_Rename_2022_CORRECT/20626_11324/20626_11324-frac2B_1.00_no1B.log to 11324\n",
      "uploading /Users/krmurtha/Box Sync/EXECUTIVE_FUNCTION/SCANNER_TASK/T1_Rename_2022_CORRECT/20794_11332/20794_11332-frac2B_1.00_no1B.log to 11332\n",
      "uploading /Users/krmurtha/Box Sync/EXECUTIVE_FUNCTION/SCANNER_TASK/T1_Rename_2022_CORRECT/20836_11359/20836_11359-frac2B_1.00_no1B.log to 11359\n",
      "uploading /Users/krmurtha/Box Sync/EXECUTIVE_FUNCTION/SCANNER_TASK/T1_Rename_2022_CORRECT/20902_11399/20902_11399-frac2B_1.00_no1B.log to 11399\n",
      "uploading /Users/krmurtha/Box Sync/EXECUTIVE_FUNCTION/SCANNER_TASK/T1_Rename_2022_CORRECT/20214_11126/20214_11126-frac2B_1.00_no1B.log to 11126\n",
      "uploading /Users/krmurtha/Box Sync/EXECUTIVE_FUNCTION/SCANNER_TASK/T1_Rename_2022_CORRECT/20352_11147/20352_11147-frac2B_1.00_no1B.log to 11147\n",
      "uploading /Users/krmurtha/Box Sync/EXECUTIVE_FUNCTION/SCANNER_TASK/T1_Rename_2022_CORRECT/20328_11207/20328_11207-frac2B_1.00_no1B.log to 11207\n",
      "uploading /Users/krmurtha/Box Sync/EXECUTIVE_FUNCTION/SCANNER_TASK/T1_Rename_2022_CORRECT/20253_11142/20253_11142-frac2B_1.00_no1B.log to 11142\n",
      "uploading /Users/krmurtha/Box Sync/EXECUTIVE_FUNCTION/SCANNER_TASK/T1_Rename_2022_CORRECT/20336_11146/20336_11146-frac2B_1.00_no1B.log to 11146\n",
      "uploading /Users/krmurtha/Box Sync/EXECUTIVE_FUNCTION/SCANNER_TASK/T1_Rename_2022_CORRECT/20350_11184/20350_11184-frac2B_1.00_no1B.log to 11184\n",
      "uploading /Users/krmurtha/Box Sync/EXECUTIVE_FUNCTION/SCANNER_TASK/T1_Rename_2022_CORRECT/20934_11387/20934_11387-frac2B_1.00_no1B.log to 11387\n",
      "uploading /Users/krmurtha/Box Sync/EXECUTIVE_FUNCTION/SCANNER_TASK/T1_Rename_2022_CORRECT/20188_11140/20188_11140-frac2B_1.00_no1B.log to 11140\n",
      "uploading /Users/krmurtha/Box Sync/EXECUTIVE_FUNCTION/SCANNER_TASK/T1_Rename_2022_CORRECT/20866_11381/20866_11381-frac2B_1.00_no1B.log to 11381\n",
      "uploading /Users/krmurtha/Box Sync/EXECUTIVE_FUNCTION/SCANNER_TASK/T1_Rename_2022_CORRECT/20855_11392/20855_11392-frac2B_1.00_no1B.log to 11392\n",
      "uploading /Users/krmurtha/Box Sync/EXECUTIVE_FUNCTION/SCANNER_TASK/T1_Rename_2022_CORRECT/20149_11003/20149_11003-frac2B_1.00_no1B.log to 11003\n",
      "uploading /Users/krmurtha/Box Sync/EXECUTIVE_FUNCTION/SCANNER_TASK/T1_Rename_2022_CORRECT/20259_11127/20259_11127-frac2B_1.00_no1B.log to 11127\n",
      "uploading /Users/krmurtha/Box Sync/EXECUTIVE_FUNCTION/SCANNER_TASK/T1_Rename_2022_CORRECT/20333_11160/20333_11160-frac2B_1.00_no1B.log to 11160\n",
      "uploading /Users/krmurtha/Box Sync/EXECUTIVE_FUNCTION/SCANNER_TASK/T1_Rename_2022_CORRECT/20712_11370/20712_11370-frac2B_1.00_no1B.log to 11370\n",
      "uploading /Users/krmurtha/Box Sync/EXECUTIVE_FUNCTION/SCANNER_TASK/T1_Rename_2022_CORRECT/20823_11375/20823_11375-frac2B_1.00_no1B.log to 11375\n",
      "uploading /Users/krmurtha/Box Sync/EXECUTIVE_FUNCTION/SCANNER_TASK/T1_Rename_2022_CORRECT/20916_11397/20916_11397-frac2B_1.00_no1B.log to 11397\n",
      "uploading /Users/krmurtha/Box Sync/EXECUTIVE_FUNCTION/SCANNER_TASK/T1_Rename_2022_CORRECT/19861_11012/19861_11012-frac2B_1.00_no1B.log to 11012\n",
      "uploading /Users/krmurtha/Box Sync/EXECUTIVE_FUNCTION/SCANNER_TASK/T1_Rename_2022_CORRECT/20305_11159/20305_11159-frac2B_1.00_no1B.log to 11159\n",
      "uploading /Users/krmurtha/Box Sync/EXECUTIVE_FUNCTION/SCANNER_TASK/T1_Rename_2022_CORRECT/20919_11386/20919_11386-frac2B_1.00_no1B.log to 11386\n",
      "uploading /Users/krmurtha/Box Sync/EXECUTIVE_FUNCTION/SCANNER_TASK/T1_Rename_2022_CORRECT/20918_11385/20918_11385-frac2B_1.00_no1B.log to 11385\n",
      "uploading /Users/krmurtha/Box Sync/EXECUTIVE_FUNCTION/SCANNER_TASK/T1_Rename_2022_CORRECT/20347_11132/20347_11132-frac2B_1.00_no1B.log to 11132\n",
      "uploading /Users/krmurtha/Box Sync/EXECUTIVE_FUNCTION/SCANNER_TASK/T1_Rename_2022_CORRECT/20252_11143/20252_11143-frac2B_1.00_no1B.log to 11143\n",
      "uploading /Users/krmurtha/Box Sync/EXECUTIVE_FUNCTION/SCANNER_TASK/T1_Rename_2022_CORRECT/20399_11180/20399_11180-frac2B_1.00_no1B.log to 11180\n",
      "uploading /Users/krmurtha/Box Sync/EXECUTIVE_FUNCTION/SCANNER_TASK/T1_Rename_2022_CORRECT/20923_11388/20923_11388-frac2B_1.00_no1B.log to 11388\n",
      "uploading /Users/krmurtha/Box Sync/EXECUTIVE_FUNCTION/SCANNER_TASK/T1_Rename_2022_CORRECT/20139_11138/20139_11138-frac2B_1.00_no1B.log to 11138\n",
      "uploading /Users/krmurtha/Box Sync/EXECUTIVE_FUNCTION/SCANNER_TASK/T1_Rename_2022_CORRECT/20818_11365/20818_11365-frac2B_1.00_no1B.log to 11365\n",
      "uploading /Users/krmurtha/Box Sync/EXECUTIVE_FUNCTION/SCANNER_TASK/T1_Rename_2022_CORRECT/20849_11366/20849_11366-frac2B_1.00_no1B.log to 11366\n",
      "uploading /Users/krmurtha/Box Sync/EXECUTIVE_FUNCTION/SCANNER_TASK/T1_Rename_2022_CORRECT/20141_11000/20141_11000-frac2B_1.00_no1B.log to 11000\n",
      "uploading /Users/krmurtha/Box Sync/EXECUTIVE_FUNCTION/SCANNER_TASK/T1_Rename_2022_CORRECT/20410_11205/20410_11205-frac2B_1.00_no1B.log to 11205\n",
      "uploading /Users/krmurtha/Box Sync/EXECUTIVE_FUNCTION/SCANNER_TASK/T1_Rename_2022_CORRECT/20842_11404/20842_11404-frac2B_1.00_no1B.log to 11404\n",
      "uploading /Users/krmurtha/Box Sync/EXECUTIVE_FUNCTION/SCANNER_TASK/T1_Rename_2022_CORRECT/20964_11416/20964_11416-frac2B_1.00_no1B.log to 11416\n",
      "uploading /Users/krmurtha/Box Sync/EXECUTIVE_FUNCTION/SCANNER_TASK/T1_Rename_2022_CORRECT/20966_11433/20966_11433-frac2B_1.00_no1B.log to 11433\n",
      "uploading /Users/krmurtha/Box Sync/EXECUTIVE_FUNCTION/SCANNER_TASK/T1_Rename_2022_CORRECT/20976_11419/20976_11419-frac2B_1.00_no1B.log to 11419\n",
      "uploading /Users/krmurtha/Box Sync/EXECUTIVE_FUNCTION/SCANNER_TASK/T1_Rename_2022_CORRECT/20983_11436/20983_11436-frac2B_1.00_no1B.log to 11436\n",
      "uploading /Users/krmurtha/Box Sync/EXECUTIVE_FUNCTION/SCANNER_TASK/T1_Rename_2022_CORRECT/20968_11443/20968_11443-frac2B_1.00_no1B.log to 11443\n",
      "uploading /Users/krmurtha/Box Sync/EXECUTIVE_FUNCTION/SCANNER_TASK/T1_Rename_2022_CORRECT/20953_11440/20953_11440-frac2B_1.00_no1B.log to 11440\n"
     ]
    },
    {
     "name": "stdout",
     "output_type": "stream",
     "text": [
      "uploading /Users/krmurtha/Box Sync/EXECUTIVE_FUNCTION/SCANNER_TASK/T1_Rename_2022_CORRECT/21038_11448/21038_11448-frac2B_1.00_no1B.log to 11448\n",
      "uploading /Users/krmurtha/Box Sync/EXECUTIVE_FUNCTION/SCANNER_TASK/T1_Rename_2022_CORRECT/21050_11451/21050_11451-frac2B_1.00_no1B.log to 11451\n",
      "uploading /Users/krmurtha/Box Sync/EXECUTIVE_FUNCTION/SCANNER_TASK/T1_Rename_2022_CORRECT/21023_11452/21023_11452-frac2B_1.00_no1B.log to 11452\n",
      "uploading /Users/krmurtha/Box Sync/EXECUTIVE_FUNCTION/SCANNER_TASK/T1_Rename_2022_CORRECT/21088_11455/21088_11455-frac2B_1.00_no1B.log to 11455\n",
      "uploading /Users/krmurtha/Box Sync/EXECUTIVE_FUNCTION/SCANNER_TASK/T1_Rename_2022_CORRECT/21095_11460/21095_11460-frac2B_1.00_no1B.log to 11460\n",
      "uploading /Users/krmurtha/Box Sync/EXECUTIVE_FUNCTION/SCANNER_TASK/T1_Rename_2022_CORRECT/21131_11465/21131_11465-frac2B_1.00_no1B.log to 11465\n",
      "uploading /Users/krmurtha/Box Sync/EXECUTIVE_FUNCTION/SCANNER_TASK/T1_Rename_2022_CORRECT/21104_11475/21104_11475-frac2B_1.00_no1B.log to 11475\n",
      "uploading /Users/krmurtha/Box Sync/EXECUTIVE_FUNCTION/SCANNER_TASK/T1_Rename_2022_CORRECT/21112_11468/21112_11468-frac2B_1.00_no1B.log to 11468\n",
      "uploading /Users/krmurtha/Box Sync/EXECUTIVE_FUNCTION/SCANNER_TASK/T1_Rename_2022_CORRECT/21146_11488/21146_11488-frac2B_1.00_no1B.log to 11488\n",
      "uploading /Users/krmurtha/Box Sync/EXECUTIVE_FUNCTION/SCANNER_TASK/T1_Rename_2022_CORRECT/21124_11473/21124_11473-frac2B_1.00_no1B.log to 11473\n",
      "uploading /Users/krmurtha/Box Sync/EXECUTIVE_FUNCTION/SCANNER_TASK/T1_Rename_2022_CORRECT/21154_11492/21154_11492-frac2B_1.00_no1B.log to 11492\n",
      "uploading /Users/krmurtha/Box Sync/EXECUTIVE_FUNCTION/SCANNER_TASK/T1_Rename_2022_CORRECT/21161_11541/21161_11541-frac2B_1.00_no1B.log to 11541\n",
      "uploading /Users/krmurtha/Box Sync/EXECUTIVE_FUNCTION/SCANNER_TASK/T1_Rename_2022_CORRECT/138950_11533/138950_11533-frac2B_1.00_no1B.log to 11533\n",
      "uploading /Users/krmurtha/Box Sync/EXECUTIVE_FUNCTION/SCANNER_TASK/T1_Rename_2022_CORRECT/21141_11574/21141_11574-frac2B_1.00_no1B.log to 11574\n",
      "uploading /Users/krmurtha/Box Sync/EXECUTIVE_FUNCTION/SCANNER_TASK/T1_Rename_2022_CORRECT/21193_11576/21193_11576-frac2B_1.00_no1B.log to 11576\n",
      "uploading /Users/krmurtha/Box Sync/EXECUTIVE_FUNCTION/SCANNER_TASK/T1_Rename_2022_CORRECT/21118_11577/21118_11577-frac2B_1.00_no1B.log to 11577\n",
      "uploading /Users/krmurtha/Box Sync/EXECUTIVE_FUNCTION/SCANNER_TASK/T1_Rename_2022_CORRECT/21224_11625/21224_11625-frac2B_1.00_no1B.log to 11625\n",
      "uploading /Users/krmurtha/Box Sync/EXECUTIVE_FUNCTION/SCANNER_TASK/T1_Rename_2022_CORRECT/21139_11640/21139_11640-frac2B_1.00_no1B.log to 11640\n",
      "uploading /Users/krmurtha/Box Sync/EXECUTIVE_FUNCTION/SCANNER_TASK/T1_Rename_2022_CORRECT/21325_11651/21325_11651-frac2B_1.00_no1B.log to 11651\n",
      "uploading /Users/krmurtha/Box Sync/EXECUTIVE_FUNCTION/SCANNER_TASK/T1_Rename_2022_CORRECT/21432_11664/21432_11664-frac2B_1.00_no1B.log to 11664\n",
      "uploading /Users/krmurtha/Box Sync/EXECUTIVE_FUNCTION/SCANNER_TASK/T1_Rename_2022_CORRECT/21345_11702/21345_11702-frac2B_1.00_no1B.log to 11702\n",
      "uploading /Users/krmurtha/Box Sync/EXECUTIVE_FUNCTION/SCANNER_TASK/T1_Rename_2022_CORRECT/21150_11720/21150_11720-frac2B_1.00_no1B.log to 11720\n",
      "uploading /Users/krmurtha/Box Sync/EXECUTIVE_FUNCTION/SCANNER_TASK/T1_Rename_2022_CORRECT/21516_11723/21516_11723-frac2B_1.00_no1B.log to 11723\n",
      "uploading /Users/krmurtha/Box Sync/EXECUTIVE_FUNCTION/SCANNER_TASK/T1_Rename_2022_CORRECT/21580_11751/21580_11751-frac2B_1.00_no1B.log to 11751\n",
      "uploading /Users/krmurtha/Box Sync/EXECUTIVE_FUNCTION/SCANNER_TASK/T1_Rename_2022_CORRECT/21568_11755/21568_11755-frac2B_1.00_no1B.log to 11755\n",
      "uploading /Users/krmurtha/Box Sync/EXECUTIVE_FUNCTION/SCANNER_TASK/T1_Rename_2022_CORRECT/21539_11780/21539_11780-frac2B_1.00_no1B.log to 11780\n",
      "uploading /Users/krmurtha/Box Sync/EXECUTIVE_FUNCTION/SCANNER_TASK/T1_Rename_2022_CORRECT/21567_11779/21567_11779-frac2B_1.00_no1B.log to 11779\n",
      "uploading /Users/krmurtha/Box Sync/EXECUTIVE_FUNCTION/SCANNER_TASK/T1_Rename_2022_CORRECT/21623_11793/21623_11793-frac2B_1.00_no1B.log to 11793\n",
      "uploading /Users/krmurtha/Box Sync/EXECUTIVE_FUNCTION/SCANNER_TASK/T1_Rename_2022_CORRECT/21493_11794/21493_11794-frac2B_1.00_no1B.log to 11794\n",
      "uploading /Users/krmurtha/Box Sync/EXECUTIVE_FUNCTION/SCANNER_TASK/T1_Rename_2022_CORRECT/21197_11798/21197_11798-frac2B_1.00_no1B.log to 11798\n",
      "uploading /Users/krmurtha/Box Sync/EXECUTIVE_FUNCTION/SCANNER_TASK/T1_Rename_2022_CORRECT/21197_11798/21197_11798-frac2B_1.00_no1B.log to 11798\n",
      "uploading /Users/krmurtha/Box Sync/EXECUTIVE_FUNCTION/SCANNER_TASK/T1_Rename_2022_CORRECT/21197_11798/21197_11798-frac2B_1.00_no1B.log to 11798\n",
      "uploading /Users/krmurtha/Box Sync/EXECUTIVE_FUNCTION/SCANNER_TASK/T1_Rename_2022_CORRECT/21197_11798/21197_11798-frac2B_1.00_no1B.log to 11798\n",
      "uploading /Users/krmurtha/Box Sync/EXECUTIVE_FUNCTION/SCANNER_TASK/T1_Rename_2022_CORRECT/21554_11825/21554_11825-frac2B_1.00_no1B.log to 11825\n",
      "uploading /Users/krmurtha/Box Sync/EXECUTIVE_FUNCTION/SCANNER_TASK/T1_Rename_2022_CORRECT/21514_11829/21514_11829-frac2B_1.00_no1B.log to 11829\n",
      "uploading /Users/krmurtha/Box Sync/EXECUTIVE_FUNCTION/SCANNER_TASK/T1_Rename_2022_CORRECT/21712_11848/21712_11848-frac2B_1.00_no1B.log to 11848\n",
      "uploading /Users/krmurtha/Box Sync/EXECUTIVE_FUNCTION/SCANNER_TASK/T1_Rename_2022_CORRECT/21827_11853/21827_11853-frac2B_1.00_no1B.log to 11853\n",
      "uploading /Users/krmurtha/Box Sync/EXECUTIVE_FUNCTION/SCANNER_TASK/T1_Rename_2022_CORRECT/21797_11862/21797_11862-frac2B_1.00_no1B.log to 11862\n",
      "uploading /Users/krmurtha/Box Sync/EXECUTIVE_FUNCTION/SCANNER_TASK/T1_Rename_2022_CORRECT/21738_11875/21738_11875-frac2B_1.00_no1B.log to 11875\n",
      "uploading /Users/krmurtha/Box Sync/EXECUTIVE_FUNCTION/SCANNER_TASK/T1_Rename_2022_CORRECT/21855_11885/21855_11885-frac2B_1.00_no1B.log to 11885\n",
      "uploading /Users/krmurtha/Box Sync/EXECUTIVE_FUNCTION/SCANNER_TASK/T1_Rename_2022_CORRECT/21856_11886/21856_11886-frac2B_1.00_no1B.log to 11886\n"
     ]
    }
   ],
   "source": [
    "#for T1 (using renamed_files)\n",
    "for ses in sessions_2:\n",
    "    sesid=ses.label\n",
    "    #print(sesid)\n",
    "    acq=ses.acquisitions()\n",
    "    for a in acq:\n",
    "        EFFiles=a.files\n",
    "        EFTypes=[x.type for x in EFFiles]\n",
    "        for file in to_upload1:\n",
    "            f=(file.split('/'))\n",
    "            g=f[len(f)-2]\n",
    "            scanid=(g.split('_')[1])\n",
    "            if scanid == sesid:\n",
    "                if 'ABCD_fMRI_frac-no-back-run1' in a.label or 'func_task-fracnoback_run-02' in a.label:\n",
    "                    if 'nifti' in EFTypes:\n",
    "                        print('uploading {0} to {1}'.format(file, scanid))\n",
    "                        a.upload_file(file)"
   ]
  },
  {
   "cell_type": "code",
   "execution_count": 13,
   "metadata": {},
   "outputs": [
    {
     "name": "stdout",
     "output_type": "stream",
     "text": [
      "uploading /Users/krmurtha/Box Sync/EXECUTIVE_FUNCTION/SCANNER_TASK/SCANNER_TASK_T2/20494_11738/20494-frac2B_1.00_no1B.log to 11738\n",
      "uploading /Users/krmurtha/Box Sync/EXECUTIVE_FUNCTION/SCANNER_TASK/SCANNER_TASK_T2/20252_11607/20252-frac2B_1.00_no1B.log to 11607\n"
     ]
    }
   ],
   "source": [
    "#for T2 (bblid_scanid naming convention)\n",
    "for ses in sessions_2:\n",
    "    sesid=ses.label\n",
    "    #print(sesid)\n",
    "    acq=ses.acquisitions()\n",
    "    for a in acq:\n",
    "        EFFiles=a.files\n",
    "        EFTypes=[x.type for x in EFFiles]\n",
    "        for file in to_upload2:\n",
    "            f=(file.split('/'))\n",
    "            g=f[len(f)-2]\n",
    "            scanid=(g.split('_')[1])\n",
    "            if scanid == sesid:\n",
    "                if 'ABCD_fMRI_frac-no-back-run1' in a.label or 'func_task-fracnoback_run-02' in a.label:\n",
    "                    if 'nifti' in EFTypes:\n",
    "                        print('uploading {0} to {1}'.format(file, scanid))\n",
    "                        a.upload_file(file)\n",
    "\n",
    "            "
   ]
  }
 ],
 "metadata": {
  "kernelspec": {
   "display_name": "Python 3",
   "language": "python",
   "name": "python3"
  },
  "language_info": {
   "codemirror_mode": {
    "name": "ipython",
    "version": 3
   },
   "file_extension": ".py",
   "mimetype": "text/x-python",
   "name": "python",
   "nbconvert_exporter": "python",
   "pygments_lexer": "ipython3",
   "version": "3.7.3"
  }
 },
 "nbformat": 4,
 "nbformat_minor": 2
}
