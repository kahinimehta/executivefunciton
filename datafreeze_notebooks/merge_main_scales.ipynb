{
 "cells": [
  {
   "cell_type": "code",
   "execution_count": null,
   "metadata": {},
   "outputs": [],
   "source": [
    "#This script merges cleaned data from an old data freeze, with new data pulled from Axis.\n",
    "#Inputs:\n",
    "    #enrollment sheets pulled from AXIS, stored at afp://saturn/Coordinators/Protocols/TED_PROTOCOLS/EXECUTIVE_829744/2022_data_freeze/inputs\n",
    "    #data cleaned and organized from 2020, stored at afp://saturn/Coordinators/Protocols/TED_PROTOCOLS/EXECUTIVE_829744/flywheel_data_uploads/data_ready_for_upload/\n",
    "    #log of redcap IDs pulled from AXIS (https://axis.med.upenn.edu/redcap_v10.3.7/DataExport/index.php?pid=378&report_id=2598) and stored at afp://saturn/Coordinators/Protocols/TED_PROTOCOLS/EXECUTIVE_829744/2022_data_freeze/inputs\n",
    "    #new data pulled from AXIS (https://axis.med.upenn.edu/redcap_v10.3.7/DataExport/index.php?pid=191&report_id=1318) and stored at afp://saturn/Coordinators/Protocols/TED_PROTOCOLS/EXECUTIVE_829744/2022_data_freeze/inputs\n",
    "#Outputs:\n",
    "    #a csv of all main battery scales collected for participants enrolled prior to April 1st, 2022 "
   ]
  },
  {
   "cell_type": "code",
   "execution_count": 1,
   "metadata": {},
   "outputs": [],
   "source": [
    "import pandas as pd"
   ]
  },
  {
   "cell_type": "code",
   "execution_count": 2,
   "metadata": {},
   "outputs": [],
   "source": [
    "#read in T1 enrollment\n",
    "axis_t1=pd.read_csv('/Volumes/Coordinators/Protocols/TED_PROTOCOLS/EXECUTIVE_829744/2022_data_freeze/inputs/axis_enroll_t1.csv',dtype=str)\n",
    "axis_t1=axis_t1.drop(columns=['scan_1_date'])\n",
    "#axis_t1"
   ]
  },
  {
   "cell_type": "code",
   "execution_count": 3,
   "metadata": {},
   "outputs": [],
   "source": [
    "#reformat \n",
    "t1_enroll=axis_t1['bblid']\n",
    "t1_enroll=t1_enroll.tolist()\n",
    "t1_enroll = [str(t) for t in t1_enroll]"
   ]
  },
  {
   "cell_type": "code",
   "execution_count": 7,
   "metadata": {},
   "outputs": [],
   "source": [
    "#read in RedCAP IDS from EF tracker\n",
    "redcap_ids = pd.read_csv('/Volumes/Coordinators/Protocols/TED_PROTOCOLS/EXECUTIVE_829744/2022_data_freeze/inputs/axis_redcap_ids.csv', dtype=str)\n",
    "scale_ids = redcap_ids['sr_redcap_id']\n",
    "scale_ids = scale_ids.tolist()\n",
    "scale_ids = [str(i) for i in scale_ids]"
   ]
  },
  {
   "cell_type": "code",
   "execution_count": 8,
   "metadata": {},
   "outputs": [
    {
     "name": "stdout",
     "output_type": "stream",
     "text": [
      "['344', '275', '278', '454', '286', '289', '463', '385', '610', '414', '376', '840', '474', '470', '693', '419', '768', '606', '602', '498', '681', '598', '502', '506', '478', '428', '549', '483', '516', '618', '614', '585', '660', '628', '669', '740', '778', '760', '716', '866', '804', '1003', '856', '851', '884', '889', '989', '1024', '949', '966', '1126', '1130', '993', '1091', '1098', '1044', '1036', '1064', '1109', '1068', '1072', '1080', '1076', '1176', '1265', '1270', '1169', '1234', '1292', '1184', '1245', '1344', '1261', '1304', '1332', '1355', '1369', '1460', '1421', '1480', '2029', '1446', '1384', '2348', '2018', '1525', '2777', '1538', '1830', '2025', '3106', '2280', '2442', '2703', '2494', '3095', '3221', '2810', '3043', '3199', '3203', '2917', '3039', '2944', '2921', '3088', '3300', '3304', '1391812378', '3378', '3336', '3487', '3490', '3924', '3988', '3980', '4383', '4213', '4266', '4323', '4327', '4413', '4422', '4270', '1777']\n"
     ]
    }
   ],
   "source": [
    "#get rid of nan's\n",
    "scale_ids1=[]\n",
    "for s in scale_ids:\n",
    "    if 'nan' not in s:\n",
    "        #t=s.split('.')[0]\n",
    "        #print(t)\n",
    "        scale_ids1.append(s)\n",
    "print(scale_ids1)"
   ]
  },
  {
   "cell_type": "code",
   "execution_count": 17,
   "metadata": {},
   "outputs": [],
   "source": [
    "#read in raw data\n",
    "sr=pd.read_csv('/Volumes/Coordinators/Protocols/TED_PROTOCOLS/EXECUTIVE_829744/2022_data_freeze/inputs/axis_EF_main_scales.csv',dtype=str)"
   ]
  },
  {
   "cell_type": "code",
   "execution_count": 18,
   "metadata": {},
   "outputs": [],
   "source": [
    "#subset based on scale ids\n",
    "scales=sr[sr['scales_id'].isin(scale_ids1)]"
   ]
  },
  {
   "cell_type": "code",
   "execution_count": 19,
   "metadata": {},
   "outputs": [],
   "source": [
    "#read in old SR data\n",
    "cleaned_sr=pd.read_csv('/Volumes/Coordinators/Protocols/TED_PROTOCOLS/EXECUTIVE_829744/flywheel_data_uploads/data_ready_for_upload/EF_ScanDay_Scales_3.csv',dtype=str,encoding='latin-1')"
   ]
  },
  {
   "cell_type": "code",
   "execution_count": 20,
   "metadata": {
    "scrolled": true
   },
   "outputs": [],
   "source": [
    "#for some reason these don't have scales IDs, so lets separate them from redcap IDs \n",
    "ids= cleaned_sr['redcapid']\n",
    "new_ids=[]\n",
    "for i in ids:\n",
    "    x=i[5:]\n",
    "    new_ids.append(x)"
   ]
  },
  {
   "cell_type": "code",
   "execution_count": 21,
   "metadata": {},
   "outputs": [],
   "source": [
    "#add as new column to dataframe \n",
    "cleaned_sr['scales_id']=new_ids"
   ]
  },
  {
   "cell_type": "code",
   "execution_count": 22,
   "metadata": {
    "scrolled": true
   },
   "outputs": [
    {
     "name": "stdout",
     "output_type": "stream",
     "text": [
      "['2029', '2348', '2018', '2777', '1830', '2025', '3106', '2280', '2442', '2703', '2494', '3095', '3221', '2810', '3043', '3199', '3203', '2917', '3039', '2944', '2921', '3088', '3300', '3304', '1391812378', '3378', '3336', '3487', '3490', '3924', '3988', '3980', '4383', '4213', '4266', '4323', '4327', '4413', '4422', '4270', '1777']\n"
     ]
    }
   ],
   "source": [
    "#find who is missing from the cleaned data \n",
    "missing=[]\n",
    "for i in scale_ids1:\n",
    "    if i not in new_ids:\n",
    "        missing.append(i)\n",
    "\n",
    "print(missing)"
   ]
  },
  {
   "cell_type": "code",
   "execution_count": 23,
   "metadata": {},
   "outputs": [],
   "source": [
    "#filter out any data that was already organized in the last audit. \n",
    "new = scales[scales['scales_id'].isin(missing)]"
   ]
  },
  {
   "cell_type": "code",
   "execution_count": 24,
   "metadata": {},
   "outputs": [],
   "source": [
    "#drop unnecessary columns\n",
    "new=new.drop(columns=['date'])\n",
    "new=new.drop(columns=['admin_proband'])\n",
    "new=new.drop(columns=['admin_proband_group'])"
   ]
  },
  {
   "cell_type": "code",
   "execution_count": 25,
   "metadata": {},
   "outputs": [],
   "source": [
    "t1_all_scales = pd.concat([cleaned_sr, new], axis=0, sort=False)"
   ]
  },
  {
   "cell_type": "code",
   "execution_count": 26,
   "metadata": {},
   "outputs": [],
   "source": [
    "#add a \"timepoint\" variable (this is t1) and merge with scan IDs so data is easily used w BIDS \n",
    "t1_all_scales=pd.merge(t1_all_scales,axis_t1, left_on=\"bblid\", right_on=\"bblid\")\n",
    "t1_all_scales=t1_all_scales.rename(columns={\"scan_id_timepoint_1\": \"scan_id\"})\n",
    "t1_all_scales['timepoint']= '1'"
   ]
  },
  {
   "cell_type": "code",
   "execution_count": 23,
   "metadata": {},
   "outputs": [],
   "source": [
    "#and now to add T2 "
   ]
  },
  {
   "cell_type": "code",
   "execution_count": 28,
   "metadata": {},
   "outputs": [],
   "source": [
    "#read in T1 enrollment\n",
    "axis_t2=pd.read_csv('/Volumes/Coordinators/Protocols/TED_PROTOCOLS/EXECUTIVE_829744/2022_data_freeze/inputs/axis_enroll_t2.csv',dtype=str)\n",
    "axis_t2=axis_t2.drop(columns=['scan_2_date'])\n",
    "#axis_t2"
   ]
  },
  {
   "cell_type": "code",
   "execution_count": 29,
   "metadata": {},
   "outputs": [],
   "source": [
    "#reformat \n",
    "t2_enroll=axis_t2['bblid']\n",
    "t2_enroll=t2_enroll.tolist()\n",
    "t2_enroll = [str(t) for t in t2_enroll]"
   ]
  },
  {
   "cell_type": "code",
   "execution_count": 30,
   "metadata": {},
   "outputs": [],
   "source": [
    "#get T2 scale ids\n",
    "scale_ids2 = redcap_ids['sr_redcap_id_t2']\n",
    "scale_ids2 = scale_ids2.tolist()\n",
    "scale_ids2 = [str(i) for i in scale_ids2]"
   ]
  },
  {
   "cell_type": "code",
   "execution_count": 31,
   "metadata": {},
   "outputs": [
    {
     "name": "stdout",
     "output_type": "stream",
     "text": [
      "['2468', '3231', '2119', '2472', '2219', '2208', '3195', '2184', '2188', '2321', '2605', '2476', '2317', '4388', '2601', '2872', '3017', '2663', '2648', '2770', '3456', '3460', '3253', '3854', '4150', '4055', '3525', '4299', '1391812359', '3515', '4291', '3755', '4203', '4479', '4520']\n"
     ]
    }
   ],
   "source": [
    "#get rid of nan's\n",
    "scale_ids2t=[]\n",
    "for s in scale_ids2:\n",
    "    if 'nan' not in s:\n",
    "        #t=s.split('.')[0]\n",
    "        #print(t)\n",
    "        scale_ids2t.append(s)\n",
    "print(scale_ids2t)"
   ]
  },
  {
   "cell_type": "code",
   "execution_count": 32,
   "metadata": {},
   "outputs": [],
   "source": [
    "scales2=sr[sr['scales_id'].isin(scale_ids2t)]"
   ]
  },
  {
   "cell_type": "code",
   "execution_count": 33,
   "metadata": {},
   "outputs": [],
   "source": [
    "scales2=scales2.drop(columns=['date'])\n",
    "scales2=scales2.drop(columns=['admin_proband'])\n",
    "scales2=scales2.drop(columns=['admin_proband_group'])"
   ]
  },
  {
   "cell_type": "code",
   "execution_count": 34,
   "metadata": {},
   "outputs": [],
   "source": [
    "t2_all_scales=pd.merge(scales2,axis_t2, left_on=\"bblid\", right_on=\"bblid\")\n",
    "t2_all_scales=t2_all_scales.rename(columns={\"scan_id_t2\": \"scan_id\"})\n",
    "t2_all_scales['timepoint']= '2'"
   ]
  },
  {
   "cell_type": "code",
   "execution_count": 35,
   "metadata": {},
   "outputs": [],
   "source": [
    "#altogether now! \n",
    "all_scales = pd.concat([t1_all_scales, t2_all_scales], axis=0, sort=False)"
   ]
  },
  {
   "cell_type": "code",
   "execution_count": 36,
   "metadata": {},
   "outputs": [],
   "source": [
    "all_scales.to_csv('/Volumes/Coordinators/Protocols/TED_PROTOCOLS/EXECUTIVE_829744/2022_data_freeze/outputs/EF_all_scales.csv', sep = ',', index=False)"
   ]
  }
 ],
 "metadata": {
  "kernelspec": {
   "display_name": "Python 3",
   "language": "python",
   "name": "python3"
  },
  "language_info": {
   "codemirror_mode": {
    "name": "ipython",
    "version": 3
   },
   "file_extension": ".py",
   "mimetype": "text/x-python",
   "name": "python",
   "nbconvert_exporter": "python",
   "pygments_lexer": "ipython3",
   "version": "3.7.3"
  }
 },
 "nbformat": 4,
 "nbformat_minor": 2
}
